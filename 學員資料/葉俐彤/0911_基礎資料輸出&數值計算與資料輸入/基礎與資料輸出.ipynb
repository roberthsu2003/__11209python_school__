{
 "cells": [
  {
   "cell_type": "code",
   "execution_count": 1,
   "metadata": {},
   "outputs": [
    {
     "name": "stdout",
     "output_type": "stream",
     "text": [
      "hello python\n"
     ]
    }
   ],
   "source": [
    "print('hello python')"
   ]
  },
  {
   "cell_type": "code",
   "execution_count": 1,
   "metadata": {},
   "outputs": [
    {
     "data": {
      "text/plain": [
       "True"
      ]
     },
     "execution_count": 1,
     "metadata": {},
     "output_type": "execute_result"
    }
   ],
   "source": [
    "#純值運算，Python只有四種純值\n",
    "'hello python' #str字串\n",
    "30 #int整數\n",
    "30.0 #floats 浮點數\n",
    "True #booleans 布林值"
   ]
  },
  {
   "cell_type": "code",
   "execution_count": 1,
   "metadata": {},
   "outputs": [
    {
     "name": "stdout",
     "output_type": "stream",
     "text": [
      "Hello world\n",
      "30\n",
      "30.0\n",
      "True\n"
     ]
    }
   ],
   "source": [
    "#print() 呈現螢幕上會出現的內容\n",
    "print('Hello world')\n",
    "print(30)\n",
    "print(30.0)\n",
    "print(True)"
   ]
  },
  {
   "cell_type": "code",
   "execution_count": null,
   "metadata": {},
   "outputs": [],
   "source": [
    "#Python數學運算，依照先到後順序如下\n",
    "# ()\n",
    "# ** 次方\n",
    "# 正負\n",
    "# *(乘)、 / (浮點數除法)、％（餘數除法）、 // (整數除法)\n",
    "# +- （加減）\n",
    "# = (把右邊的數值丟給左邊) \n"
   ]
  },
  {
   "cell_type": "code",
   "execution_count": 10,
   "metadata": {},
   "outputs": [
    {
     "name": "stdout",
     "output_type": "stream",
     "text": [
      "7\n",
      "3\n",
      "8\n",
      "5.0\n",
      "2\n",
      "1\n",
      "0\n",
      "4\n",
      "8\n"
     ]
    }
   ],
   "source": [
    "#整數（int)運算\n",
    "print(3+4)\n",
    "print(6-3)\n",
    "print(2*4)\n",
    "print(10/2) #浮點數除法，結果會出現浮點數\n",
    "print(9//4) #整數除法（不管餘數為何）\n",
    "print(10%3) #求整數除法後的餘數\n",
    "print(6%3) #可以被整除代表餘數為0\n",
    "print(8//2) #整數除法\n",
    "print(2**3) #2的3次方\n"
   ]
  },
  {
   "cell_type": "code",
   "execution_count": 15,
   "metadata": {},
   "outputs": [
    {
     "name": "stdout",
     "output_type": "stream",
     "text": [
      "5.0\n",
      "58.2\n",
      "11.3\n",
      "2.0\n"
     ]
    }
   ],
   "source": [
    "#浮點數和整數運算 可互通、結果為浮點數\n",
    "print(3.0+2)\n",
    "print(6.0+3.2+49)\n",
    "print(5.3+2*3) #先做乘再加\n",
    "print(2*(1+2)**2-2**3*2.0) #18-16"
   ]
  },
  {
   "cell_type": "code",
   "execution_count": 7,
   "metadata": {},
   "outputs": [
    {
     "data": {
      "text/plain": [
       "3.0"
      ]
     },
     "execution_count": 7,
     "metadata": {},
     "output_type": "execute_result"
    }
   ],
   "source": [
    "#str字串的加法運算\n",
    "\"abd\"+\"ekd\" #用單引號或是雙引號都可以\n",
    "\n",
    "#str字串＋int整數 or floats浮點數 會出錯\n",
    "\n",
    "#轉為str字串後運算\n",
    "\"abc\"+str(22)\n",
    "\n",
    "#轉為int純值後計算\n",
    "int(\"13\")+int(\"12\") #因為原本是字串所以有雙引號\n",
    "\n",
    "#轉為floats浮點數運算\n",
    "float(\"2.0\")+float(\"3.3\")\n",
    "\n",
    "#int('3.8') 會出錯，只能轉為float\n",
    "a='3.0'\n",
    "float(a)"
   ]
  },
  {
   "cell_type": "code",
   "execution_count": 54,
   "metadata": {},
   "outputs": [
    {
     "name": "stdout",
     "output_type": "stream",
     "text": [
      "cat sleep\n"
     ]
    }
   ],
   "source": [
    "#變數宣告\n",
    "#其他程式語言的變數需要先進行宣告，告訴作業系統它的名稱與它的型態\n",
    "#Python 變數不需要經過宣告就可以使用\n",
    "#透過＝賦值，把右邊資訊交給左邊\n",
    "\n",
    "h1=100 #先運算一次儲存\n",
    "h1 #召喚儲存的變數\n",
    "\n",
    "#程式執行時需要儲存，儲存對象就是變數，是我們自己定義的名稱\n",
    "\n",
    "#變數有int整數、floats浮點數、str字串與布林這四種\n",
    "\n",
    "#可以在同一列中指定多個變數，變數之間以「,」分隔，而內容之間 也以「,」分隔\n",
    "\n",
    "#用del+變數名稱，就可以刪除變數\n",
    "\n",
    "h2, T1=\"cat\", \"sleep\"\n",
    "h2, T1\n",
    "print(h2, T1)\n",
    "del h2, T1"
   ]
  },
  {
   "cell_type": "code",
   "execution_count": null,
   "metadata": {},
   "outputs": [],
   "source": [
    "#變數命名規則\n",
    "#只能使用英文字母大小寫、數字」底線符號（Python3可以支援中文）\n",
    "#開頭第一個字不能是數字、_\n",
    "#不可與內建保留字相同.\n",
    "#大小寫視為不同的變數(DOG、dog)\n",
    "#不可以出現特殊字元或空白\n",
    "\n",
    "#合法命名：a、a1、a1_\n",
    "#不合法命名：1a、1_ (抓去關？)\n",
    "\n",
    "#Q1: 請問以下哪一個變數命名是錯的?(選擇題)\n",
    "#(1) 5well.\n",
    "#(2) pcschool\n",
    "#(3) 巨匠\n",
    "\n",
    "# A1:(1)\n",
    "\n",
    "#Q2:請問以下哪一個變數命名是錯的?(複選題)\n",
    "#(1) 7eleven\n",
    "#(2) pcschool&python\n",
    "#(3) Pcschool python\n",
    "#(4) if\n",
    "\n",
    "# A2:(1、2、3)\n",
    "\n",
    "#Q3：若要建立 x 變數內容為 15，請問哪一行是對的? (選擇題)\n",
    "#(1) x equals 15\n",
    "#(2) x is 15\n",
    "#(3) 15 = x\n",
    "#(4) x = 15\n",
    "\n",
    "# A3：X= 15"
   ]
  },
  {
   "cell_type": "code",
   "execution_count": 21,
   "metadata": {},
   "outputs": [
    {
     "data": {
      "text/plain": [
       "'待討論：多行註解的內容執行會跑出來？'"
      ]
     },
     "execution_count": 21,
     "metadata": {},
     "output_type": "execute_result"
    }
   ],
   "source": [
    "#註解\n",
    "\n",
    "#單行註解 #後的語法都不會執行（就像現在一樣）\n",
    "#多行註解：註解區塊前後加上三個單引號或三個雙引號\n",
    "\n",
    "'''\n",
    "這樣是多行註解\n",
    "多行多行多行\n",
    "'''\n",
    "\n",
    "\"\"\"\n",
    "這樣是多行註解\n",
    "多行多行多行\n",
    "\"\"\"\n",
    "\n",
    "'''待討論：多行註解的內容執行會跑出來？'''"
   ]
  },
  {
   "cell_type": "code",
   "execution_count": 71,
   "metadata": {},
   "outputs": [
    {
     "name": "stdout",
     "output_type": "stream",
     "text": [
      "3\n",
      "3.12\n",
      "Hello! World!\n",
      "5\n",
      "a= 100\n",
      "b= 50\n",
      "test\n"
     ]
    }
   ],
   "source": [
    "#變數給值與輸出\n",
    "\n",
    "#沒給變數內容，嘗試存取變數會發生「變數未定義」的錯誤\n",
    "#print就是存取內容的動作，基本語法為print(變數)、print（內容）\n",
    "#「內容」要用單或雙引號包起來\n",
    "\n",
    "#一個參數\n",
    "print(3)\n",
    "print(3.12)\n",
    "print(\"Hello! World!\")\n",
    "print(3+2)\n",
    "\n",
    "#多個參數\n",
    "a=100\n",
    "print('a=',a) #輸出a=是什麼？、a是什麼？\n",
    "b=50\n",
    "print('b=',b)\n",
    "\n",
    "#Q1:關於輸出語法哪一個是對的?(選擇題)\n",
    "#(1) print 3 + 4\n",
    "#(2) print(3 + 4)\n",
    "#(3) print 3 + 4\n",
    "#(4) put(3 + 4)\n",
    "\n",
    "#A1：（2)\n",
    "\n",
    "#Q2：請問 Python 檔案副檔名哪一個是對的?(選擇題)\n",
    "#(1) .script\n",
    "#(2) .pyscript\n",
    "#(3) .py\n",
    "#(4) .python\n",
    "\n",
    "#A2:（３)\n",
    "\n",
    "#Q3：請問執行這一行後的說明哪一個是對的?(選擇題)\n",
    "#(1) 產生錯誤\n",
    "#(2) 輸出空白\n",
    "#(3) 輸出 0\n",
    "\n",
    "#A3：(1)\n",
    "\n",
    "#Q4：請問執行後的說明哪一個是對的?(選擇題)\n",
    "x=50\n",
    "x='test'\n",
    "print(x)\n",
    "\n",
    "#(1) 產生錯誤\n",
    "#(2) 輸出 test\n",
    "#(3) 輸出 5\n",
    "\n",
    "#A4：（2)\n",
    "\n"
   ]
  },
  {
   "cell_type": "code",
   "execution_count": 91,
   "metadata": {},
   "outputs": [],
   "source": [
    "#Python內建資料型別\n",
    "#當你設定變數，跟Python一樣只有四種型態\n",
    "var1=20 #int整數\n",
    "var2=20.0 #float浮點數\n",
    "var3=True #booleans布林值\n",
    "var4=\"yes\" #str字串\n",
    "del var1, var2, var3, var4 #把變數刪掉"
   ]
  },
  {
   "cell_type": "code",
   "execution_count": 18,
   "metadata": {},
   "outputs": [
    {
     "name": "stdout",
     "output_type": "stream",
     "text": [
      "<class 'int'>\n",
      "<class 'float'>\n",
      "<class 'bool'>\n",
      "<class 'str'>\n",
      "1790563043568\n"
     ]
    }
   ],
   "source": [
    "#資料型態type\n",
    "#查詢變數資料型態的方式\n",
    "var1=30\n",
    "type(var1) #得出的結果會是int整數\n",
    "\n",
    "a=100\n",
    "print(type(a)) #得出的結果會是 <class 'int'> class代表「類別」\n",
    "\n",
    "a=100.0\n",
    "print(type(a)) #<class 'float'>\n",
    "\n",
    "a=True\n",
    "print(type(a)) #<class 'bool'>\n",
    "\n",
    "a=\"right\"\n",
    "print(type(a)) #<class 'int'>\n",
    "\n",
    "#查詢變數的儲存位置id (變數內容變更後會儲存於不同的記憶體位置)\n",
    "print(id(a)) #1790563043568 這個變數的儲存位置"
   ]
  },
  {
   "cell_type": "code",
   "execution_count": 25,
   "metadata": {},
   "outputs": [
    {
     "name": "stdout",
     "output_type": "stream",
     "text": [
      "<class 'int'>\n",
      "<class 'float'>\n",
      "<class 'bool'>\n",
      "<class 'str'>\n"
     ]
    }
   ],
   "source": [
    "#資料型態動手做\n",
    "#type1.py\n",
    "\n",
    "var1=20\n",
    "print(type(var1)) #<class 'int'>\n",
    "\n",
    "var2=54.3\n",
    "print(type(var2)) #<class 'float'>\n",
    "\n",
    "var3=True\n",
    "print(type(True)) #<class 'bool'>\n",
    "\n",
    "var4=\"Rachel\"\n",
    "print(type(var4)) #<class 'str'>"
   ]
  },
  {
   "cell_type": "code",
   "execution_count": 31,
   "metadata": {},
   "outputs": [
    {
     "name": "stdout",
     "output_type": "stream",
     "text": [
      "1790561026896\n",
      "1790567067632\n"
     ]
    }
   ],
   "source": [
    "#資料型態動手做\n",
    "#type2.py\n",
    "a=5\n",
    "a=20\n",
    "print(id(a)) #1790561026896\n",
    "\n",
    "a='test'\n",
    "print(id(a)) #1790567067632"
   ]
  },
  {
   "cell_type": "code",
   "execution_count": 38,
   "metadata": {},
   "outputs": [
    {
     "name": "stdout",
     "output_type": "stream",
     "text": [
      "1790657572816\n",
      "1790638469552\n"
     ]
    },
    {
     "data": {
      "text/plain": [
       "'待討論:每次執行出來的結果，儲存位置都會更新`?'"
      ]
     },
     "execution_count": 38,
     "metadata": {},
     "output_type": "execute_result"
    }
   ],
   "source": [
    "#資料型態Q:請問執行這兩行後記憶體位址會相同嗎?\n",
    "\n",
    "#a=5.4 #1790638468368\n",
    "#a=20.3 #1790635905328\n",
    "\n",
    "#A:不同\n",
    "\n",
    "a=5.4\n",
    "print(id(a))\n",
    "\n",
    "a=20.3\n",
    "print(id(a))\n",
    "\n",
    "'''待討論:每次執行出來的結果，儲存位置都會更新?'''\n",
    "\n"
   ]
  },
  {
   "cell_type": "code",
   "execution_count": 10,
   "metadata": {},
   "outputs": [
    {
     "name": "stdout",
     "output_type": "stream",
     "text": [
      "20\n",
      "1.12\n",
      " 19.35\n",
      "23.110000\n",
      "2.300000e+01\n",
      "27\n",
      "22b\n",
      "helloddd\n",
      "Þ\n",
      "My name is sean\n",
      "My name is Rachel\n",
      "x+y=37\n"
     ]
    }
   ],
   "source": [
    "#格式化字串\n",
    "#將字串參數轉換為另一種形式輸出的函數\n",
    "\n",
    "#有3種方式：\n",
    "\"\"\"(一)百分比% 是比較久以前的用法,老師說不用理他 讚\"\"\"\n",
    "\n",
    "print('%d' %20) #以10進位整數方式格式化\n",
    "print('%.2f' %1.11555) #設定float浮點數要在小數點後第2位，得出結果會是1.12\n",
    "\n",
    "#指定輸出時，至少要預留的字元寬度\n",
    "#由於預留了6個字元寬度，不足的部份要由空白字元補上。使用%運算子來格式化字串，會產生新的字串物件\n",
    "print('%6.2f' %19.353777) \n",
    "\n",
    "#在格式化時，也可以使用關鍵字來指定\n",
    "#(real)s=(變數)s=以字串的方式格式化輸出\n",
    "#%({'real' : 'Justin', 'nick' : 'caterpillar'}) 格式化變數內文字，用\n",
    "'%(real)s is %(nick)s!!' %({'real' : 'Justin', 'nick' : 'caterpillar'})\n",
    "\n",
    "#以下有問題\n",
    "\"\"\"待確認 是不是預設浮點數就是小數點後第6位?\"\"\"\n",
    "print('%f'%23.11) #23.110000 以10進位floats浮點數方式格式化 \n",
    "\n",
    "\"\"\"不太懂是甚麼意思\"\"\"\n",
    "print('%e' %23.0) #2.300000e+01 #將浮點數以10進位方式輸出，並使用科學記號\n",
    "print('%o' %23) #27 以8進位整數方式輸出 23/8=27\n",
    "print('%x' %555) # 22b 將整數以16進位方式輸出\n",
    "print('%s' %'helloddd') #helloddd 使用str()將字串輸出\n",
    "print('%c' %222) #p 以字元方式輸出\n",
    "\n",
    "'''(二)str.format 用法>>> '{}'.format(變數, 變數...)'''\n",
    "\n",
    "#不指定位置，依序輸出變數ABC\n",
    "\"{} {} {}\".format(\"A\", \"B\", \"C\") \n",
    "'''為甚麼一定要加雙引號？這是字串？'''\n",
    "\n",
    "#用數字指定位置\n",
    "\"{2} {1} {0}\".format(\"A\", \"B\", \"C\") # CBA\n",
    "\n",
    "#用名稱指定位置\n",
    "\"{a} {c} {b}\".format(a=\"林俊傑\", b=\"用鞋子打\", c=\"被黑粉\")\n",
    "\n",
    "'''(三)f-string>>>也是「字串插補」''' \n",
    "#(Python3.6之後才有，又稱formatted string literals) \n",
    "#用法 print（f\"字串{變數}\"） 如果有特殊要求，{變數:特殊指令}\n",
    "person='sean'\n",
    "print(f'My name is {person}') #得出My name is sean\n",
    "\n",
    "text='Rachel'\n",
    "print(f'My name is {text}') #得出My name is Rachel\n",
    "\n",
    "x=10\n",
    "y=27\n",
    "print(f'x+y={x+y}') #得出x+y=37（好厲害耶）"
   ]
  },
  {
   "cell_type": "code",
   "execution_count": 51,
   "metadata": {},
   "outputs": [
    {
     "name": "stdout",
     "output_type": "stream",
     "text": [
      "|     123||456     |\n",
      "|   +4.32|\n",
      "|     123|\n",
      "|abc     |\n"
     ]
    }
   ],
   "source": [
    "#數值格式化\n",
    "'''\n",
    "格式化的方式是在後方加上”:“及”格式符”，可用的格式符如下\n",
    "{:d}        : 整數\n",
    "{:f}        : 浮點數\n",
    "{:e} {:E}   : 科學記號，例如 1.020000e+01 大小寫就代表 \"e\" 顯示的大小寫\n",
    "{:x} {:X}   : 十六進位，大小寫分別表示 A ~ F 要顯示的大小寫\n",
    "{:o}        : 八進位\n",
    "{:b}        : 二進位\n",
    "{:>}}       : 以百分比的方式輸出\n",
    "'''\n",
    "#數值對齊\n",
    "'''\n",
    "另外可以使用 > ^ < 這三種符號以及數值來搭配佔位及對齊。注意: 數值型別預設是靠右對齊，字串型別預設是靠左對齊\n",
    "\n",
    "{:>8d}      : 整數靠右對齊，寬度為 8\n",
    "{:^8d}      : 整數置中對齊，寬度為 8\n",
    "{:<8d}      : 整數靠左對齊，寬度為 8\n",
    "{:8.3f}     : 小數點後保留 3 位，總寬度為 8 (含小數點)\n",
    "{:+8.3f}    : 小數點後保留 3 位，帶正負號，總寬度為 8 (含小數點及正負號)\n",
    "'''\n",
    "\n",
    "# 範例\n",
    "\n",
    "print(\"|{0:>8d}||{1:<8d}|\".format(123, 456))\n",
    "#|     123||456     |\n",
    "# 0跟1指的是出現順序\n",
    "# {:>8d} 靠右對齊，總寬度為8的文字 \n",
    "# {:<8d} 靠左對齊，總寬度為8的文字\n",
    "# 參考數值格式化 \"{} {} {}\".format(\"A\", \"B\", \"C\") \n",
    "\n",
    "print(\"|{0:+8.2f}|\".format(4.32))\n",
    "# |   +4.32|\n",
    "# 也是靠右對齊\n",
    "\n",
    "'''這題不會'''\n",
    "#{:>}}       : 以百分比的方式輸出\n",
    "#print(\"|{0:8.2>}}|\".format(0.8)) \n",
    "# 得出結果 |  80.00%|\n",
    "\n",
    "# 字串與數值輸出預設對齊方式的比較\n",
    "# 數值預設靠右對齊，字串預設靠左對齊\n",
    "\n",
    "# 數值-靠右對齊\n",
    "print(\"|{0:8}|\".format(123))\n",
    "# |     123|\n",
    "# 預設總寬度為8、格式化後的int整數 123\n",
    "\n",
    "# 字串-靠左對齊\n",
    "print(\"|{0:8}|\".format(\"abc\"))\n",
    "# |abc     |\n",
    "# 預設總寬度為8、格式化後的str字串 "
   ]
  },
  {
   "cell_type": "code",
   "execution_count": 41,
   "metadata": {},
   "outputs": [
    {
     "name": "stdout",
     "output_type": "stream",
     "text": [
      "hi\n",
      "16\n",
      "None\n",
      "我剛大學畢業 還很年輕\n",
      "你真老\n"
     ]
    }
   ],
   "source": [
    "'''命名法(比較好辨別)'''\n",
    "# 駝峰式命名法 sayHello\n",
    "# 用底線say_hello\n",
    "\n",
    "'''定義函式 def return用法'''\n",
    "# 函式是預先寫好的程式碼，等我們呼叫的時候才會運算\n",
    "# 如果需要多次複製、貼上、修改同一個程式片段變數名稱時 可以考慮使用定義函式 \n",
    "\n",
    "'''用法'''\n",
    "# def 函式名稱（參數名稱） >定義函式（函式參數）\n",
    "# 這個函式內的程式碼       >函式內有什麼\n",
    "# return                   >回傳值\n",
    "\n",
    "'''return 回傳值'''\n",
    "# 因為函式呼叫後還要做更多運算\n",
    "# 把函式的內容直接覆蓋掉原先呼叫的內容\n",
    "# 函式執行遇到return後 會直接結束\n",
    "\n",
    "# print 會自動印出所有程式運算的結果\n",
    "# 所以print遇到def時，如果沒有設定return\n",
    "# 會自動預設 return＝None (什麼都不是>結束函式)\n",
    "\n",
    "def hiAlvis():  # 定義一個叫hiAlvis的函式\n",
    "    print(\"hi\") # 裡面是印出hi字串\n",
    "    \n",
    "hiAlvis()       # 傳送呼叫hiAlvis這個函式 得出「hi」這個結果\n",
    "\n",
    "def add(n1, n2): # 定義一個叫add的函式\n",
    "    print(n1 + n2) # 裡面是印出n1+n2\n",
    "\n",
    "v=add(13, 3) # 定義一個變數，裡面是呼叫add函式，並帶入13跟3這兩個「資料參數」運算 \n",
    "# 得出16\n",
    "\n",
    "print(v)     # 印出變數v的結果（這時候運算時就會自己去找return）\n",
    "# 得出None\n",
    "\n",
    "def text(n3, n4): # 定義一個叫text的函式，裡面可帶入n3, n4兩個值\n",
    "    print(n3 + n4) # 函數內是印出n3＋n4的結果\n",
    "    return('你真老') # 回傳值「你真老」覆蓋掉原先呼叫內容\n",
    "\n",
    "anser=text(\"我剛大學畢業\", \" 還很年輕\") \n",
    "# 得出 我剛大學畢業 還很年輕\n",
    "print(anser) #print會自動運算整個def，會找return回傳值「你真老」\n",
    "# 得出 你真老\n"
   ]
  },
  {
   "cell_type": "code",
   "execution_count": 4,
   "metadata": {},
   "outputs": [
    {
     "name": "stdout",
     "output_type": "stream",
     "text": [
      "我剛大學畢業 還很年輕\n",
      "你真老\n"
     ]
    }
   ],
   "source": [
    "def text(n3, n4): # 定義一個叫text的函式，裡面可帶入n3, n4兩個值\n",
    "    print(n3 + n4) # 函數內是印出n3＋n4的結果\n",
    "    return('你真老') # 回傳值「你真老」覆蓋掉原先呼叫內容\n",
    "\n",
    "anser=text(\"我剛大學畢業\", \" 還很年輕\") \n",
    "print(anser) "
   ]
  }
 ],
 "metadata": {
  "kernelspec": {
   "display_name": ".venv",
   "language": "python",
   "name": "python3"
  },
  "language_info": {
   "codemirror_mode": {
    "name": "ipython",
    "version": 3
   },
   "file_extension": ".py",
   "mimetype": "text/x-python",
   "name": "python",
   "nbconvert_exporter": "python",
   "pygments_lexer": "ipython3",
   "version": "3.10.8"
  },
  "orig_nbformat": 4
 },
 "nbformat": 4,
 "nbformat_minor": 2
}
