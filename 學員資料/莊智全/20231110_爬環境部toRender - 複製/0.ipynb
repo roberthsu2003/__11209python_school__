{
 "cells": [
  {
   "cell_type": "code",
   "execution_count": 7,
   "metadata": {},
   "outputs": [],
   "source": [
    "import requests\n",
    "import password as pw\n",
    "import json, csv\n",
    "# 下載\n",
    "\n",
    "f = requests.get(f\"https://data.moenv.gov.tw/api/v2/aqx_p_02?api_key={pw.apikey}\")\n",
    "\n",
    "file = f.json()\n",
    "# print(f\"file = f.json()   file_type= {type(file)}\")\n",
    "# r = file.get(\"records\")\n",
    "# print(r)"
   ]
  },
  {
   "cell_type": "code",
   "execution_count": 8,
   "metadata": {},
   "outputs": [],
   "source": [
    "import csv\n",
    "# 將下載的~寫入 *.csv 檔\n",
    "\n",
    "r = file.get(\"records\")\n",
    "# records = file[\"records\"]\n",
    "\n",
    "fieldnames=['site', 'county', 'pm25', 'datacreationdate', 'itemunit']\n",
    "with open(\"records.csv\", \"w\", encoding=\"utf-8\", newline='') as rec:\n",
    "    csvf = csv.DictWriter(rec,fieldnames=fieldnames)\n",
    "    csvf.writerows(r)\n"
   ]
  },
  {
   "cell_type": "code",
   "execution_count": 3,
   "metadata": {},
   "outputs": [
    {
     "name": "stdout",
     "output_type": "stream",
     "text": [
      "連線 RENDER_DB 成功\n"
     ]
    }
   ],
   "source": [
    "import psycopg2\n",
    "import password as pw\n",
    "#連線至 WEB  render(DB)\n",
    "\n",
    "try:\n",
    "    conn = psycopg2.connect(database=pw.DATABASE,user=pw.USER,password=pw.PASSWORD,host=pw.HOST,port='5432')\n",
    "\n",
    "except psycopg2.Error as e:\n",
    "    print('連線 RENDER_DB 失敗')\n",
    "    print(e)\n",
    "\n",
    "else:\n",
    "    print('連線 RENDER_DB 成功')"
   ]
  },
  {
   "cell_type": "code",
   "execution_count": null,
   "metadata": {},
   "outputs": [],
   "source": [
    "import csv\n",
    "# 讀取*.csv檔(以 for迴圈 逐列讀取)\n",
    "\n",
    "with open('records.csv', 'r', encoding='utf-8') as recd:\n",
    "    recdcsv=csv.reader(recd)\n",
    "    \n",
    "    for row in recdcsv:\n",
    "        print(row)"
   ]
  },
  {
   "cell_type": "code",
   "execution_count": 2,
   "metadata": {},
   "outputs": [
    {
     "name": "stdout",
     "output_type": "stream",
     "text": [
      "建立 Table: taiwan_pm25  建立完成 \n"
     ]
    }
   ],
   "source": [
    "import psycopg2\n",
    "import password as pw\n",
    "\n",
    "# 新增DB Table.\n",
    "\n",
    "conn = psycopg2.connect(\n",
    "    database=pw.DATABASE, user=pw.USER, password=pw.PASSWORD, host=pw.HOST, port=\"5432\"\n",
    ")\n",
    "\n",
    "cursor = conn.cursor()\n",
    "sqltb = \"\"\"\n",
    "CREATE TABLE IF NOT EXISTS taiwan_pm25(\n",
    "    \"id\" SERIAL,\n",
    "    \"站名\" TEXT NOT NULL,\n",
    "    \"縣市\" TEXT NOT NULL,\n",
    "    \"pm25\" INTEGER NOT NULL,\n",
    "    \"更新時間\" TEXT NOT NULL,\n",
    "    \"測量單位\" TEXT NOT NULL,\n",
    "    PRIMARY KEY(\"id\"),\n",
    "    UNIQUE(\"站名\",\"更新時間\")\n",
    "    );\n",
    " \"\"\"\n",
    "cursor.execute(sqltb)\n",
    "conn.commit()  # <注意>  容易忘記 >> conn.commit()\n",
    "\n",
    "print(\"建立 Table: taiwan_pm25  建立完成 \")\n",
    "cursor.close()\n",
    "conn.close()"
   ]
  },
  {
   "cell_type": "code",
   "execution_count": 18,
   "metadata": {},
   "outputs": [
    {
     "name": "stdout",
     "output_type": "stream",
     "text": [
      "建立 Table: taiwan_pm25  建立完成 \n"
     ]
    }
   ],
   "source": [
    "import psycopg2\n",
    "\n",
    "# 新增DB Table.\n",
    "\n",
    "conn = psycopg2.connect(\n",
    "    database=pw.DATABASE, user=pw.USER, password=pw.PASSWORD, host=pw.HOST, port=\"5432\"\n",
    ")\n",
    "\n",
    "cursor = conn.cursor()\n",
    "\n",
    "cursor.execute(\n",
    "    \"\"\"CREATE TABLE IF NOT EXISTS taiwan_pm25(\n",
    "    \"id\" SERIAL,\n",
    "    \"站名\" TEXT NOT NULL,\n",
    "    \"縣市\" TEXT NOT NULL,\n",
    "    \"pm25\" INTEGER NOT NULL,\n",
    "    \"更新時間\" TEXT NOT NULL,\n",
    "    \"測量單位\" TEXT NOT NULL,\n",
    "    PRIMARY KEY(\"id\"),\n",
    "    UNIQUE(\"站名\",\"更新時間\")\n",
    "    );\n",
    " \"\"\"\n",
    ")\n",
    "\n",
    "conn.commit()  # <注意>  容易忘記 >> conn.commit()\n",
    "\n",
    "print(\"建立 Table: taiwan_pm25  建立完成 \")\n",
    "cursor.close()\n",
    "conn.close()"
   ]
  },
  {
   "cell_type": "code",
   "execution_count": null,
   "metadata": {},
   "outputs": [],
   "source": [
    "import psycopg2\n",
    "import password as pw\n",
    "\n",
    "try:\n",
    "    conn = psycopg2.connect(\n",
    "        host=pw.HOST, database=pw.DATABASE, user=pw.USER, password=pw.PASSWORD\n",
    "    )\n",
    "except psycopg2.Error as e:\n",
    "    print(\"連接資料庫失敗\")\n",
    "    print(e)\n",
    "else:\n",
    "    print(\"資料庫連接成功\")\n",
    "\n",
    "cursor = conn.cursor()\n",
    "sqlinsert = \"\"\"\n",
    "INSERT INTO taiwan_pm25 (站名, 縣市, pm25, 更新時間, 測量單位) \n",
    "    VALUES (%s,%s,%s,%s,%s)\n",
    "    ON CONFLICT (站點名稱,更新時間) DO NOTHING \n",
    "\"\"\"\n",
    "cursor.execute(sqlinsert)\n",
    "conn.commit()\n",
    "cursor.close()\n",
    "conn.close()\n"
   ]
  },
  {
   "cell_type": "code",
   "execution_count": 2,
   "metadata": {},
   "outputs": [
    {
     "name": "stdout",
     "output_type": "stream",
     "text": [
      "['大城', '彰化縣', '9', '2023-11-12 17:00', 'μg/m3']\n",
      "['富貴角', '新北市', '5', '2023-11-12 17:00', 'μg/m3']\n",
      "['麥寮', '雲林縣', '15', '2023-11-12 17:00', 'μg/m3']\n",
      "['關山', '臺東縣', '3', '2023-11-12 17:00', 'μg/m3']\n",
      "['馬公', '澎湖縣', '3', '2023-11-12 17:00', 'μg/m3']\n",
      "['金門', '金門縣', '5', '2023-11-12 17:00', 'μg/m3']\n",
      "['馬祖', '連江縣', '3', '2023-11-12 17:00', 'μg/m3']\n",
      "['埔里', '南投縣', '10', '2023-11-12 17:00', 'μg/m3']\n",
      "['復興', '高雄市', '14', '2023-11-12 17:00', 'μg/m3']\n",
      "['永和', '新北市', '8', '2023-11-12 17:00', 'μg/m3']\n",
      "['竹山', '南投縣', '13', '2023-11-12 17:00', 'μg/m3']\n",
      "['中壢', '桃園市', '5', '2023-11-12 17:00', 'μg/m3']\n",
      "['三重', '新北市', '5', '2023-11-12 17:00', 'μg/m3']\n",
      "['冬山', '宜蘭縣', '1', '2023-11-12 17:00', 'μg/m3']\n",
      "['宜蘭', '宜蘭縣', '4', '2023-11-12 17:00', 'μg/m3']\n",
      "['陽明', '臺北市', '3', '2023-11-12 17:00', 'μg/m3']\n",
      "['花蓮', '花蓮縣', '4', '2023-11-12 17:00', 'μg/m3']\n",
      "['臺東', '臺東縣', '3', '2023-11-12 17:00', 'μg/m3']\n",
      "['恆春', '屏東縣', '1', '2023-11-12 17:00', 'μg/m3']\n",
      "['潮州', '屏東縣', '19', '2023-11-12 17:00', 'μg/m3']\n",
      "['屏東', '屏東縣', '23', '2023-11-12 17:00', 'μg/m3']\n",
      "['小港', '高雄市', '20', '2023-11-12 17:00', 'μg/m3']\n",
      "['前鎮', '高雄市', '16', '2023-11-12 17:00', 'μg/m3']\n",
      "['前金', '高雄市', '11', '2023-11-12 17:00', 'μg/m3']\n",
      "['左營', '高雄市', '20', '2023-11-12 17:00', 'μg/m3']\n",
      "['楠梓', '高雄市', '17', '2023-11-12 17:00', 'μg/m3']\n",
      "['林園', '高雄市', '21', '2023-11-12 17:00', 'μg/m3']\n",
      "['大寮', '高雄市', '25', '2023-11-12 17:00', 'μg/m3']\n",
      "['鳳山', '高雄市', '18', '2023-11-12 17:00', 'μg/m3']\n",
      "['仁武', '高雄市', '16', '2023-11-12 17:00', 'μg/m3']\n",
      "['橋頭', '高雄市', '12', '2023-11-12 17:00', 'μg/m3']\n",
      "['美濃', '高雄市', '20', '2023-11-12 17:00', 'μg/m3']\n",
      "['臺南', '臺南市', '18', '2023-11-12 17:00', 'μg/m3']\n",
      "['安南', '臺南市', '12', '2023-11-12 17:00', 'μg/m3']\n",
      "['善化', '臺南市', '11', '2023-11-12 17:00', 'μg/m3']\n",
      "['新營', '臺南市', '4', '2023-11-12 17:00', 'μg/m3']\n",
      "['嘉義', '嘉義市', '12', '2023-11-12 17:00', 'μg/m3']\n",
      "['臺西', '雲林縣', '3', '2023-11-12 17:00', 'μg/m3']\n",
      "['朴子', '嘉義縣', '11', '2023-11-12 17:00', 'μg/m3']\n",
      "['新港', '嘉義縣', '13', '2023-11-12 17:00', 'μg/m3']\n",
      "['崙背', '雲林縣', '7', '2023-11-12 17:00', 'μg/m3']\n",
      "['斗六', '雲林縣', '11', '2023-11-12 17:00', 'μg/m3']\n",
      "['南投', '南投縣', '8', '2023-11-12 17:00', 'μg/m3']\n",
      "['二林', '彰化縣', '11', '2023-11-12 17:00', 'μg/m3']\n",
      "['線西', '彰化縣', '', '2023-11-12 17:00', 'μg/m3']\n",
      "['彰化', '彰化縣', '2', '2023-11-12 17:00', 'μg/m3']\n",
      "['西屯', '臺中市', '8', '2023-11-12 17:00', 'μg/m3']\n",
      "['忠明', '臺中市', '5', '2023-11-12 17:00', 'μg/m3']\n",
      "['大里', '臺中市', '2', '2023-11-12 17:00', 'μg/m3']\n",
      "['沙鹿', '臺中市', '12', '2023-11-12 17:00', 'μg/m3']\n",
      "['豐原', '臺中市', '5', '2023-11-12 17:00', 'μg/m3']\n",
      "['三義', '苗栗縣', '3', '2023-11-12 17:00', 'μg/m3']\n",
      "['苗栗', '苗栗縣', '5', '2023-11-12 17:00', 'μg/m3']\n",
      "['頭份', '苗栗縣', '2', '2023-11-12 17:00', 'μg/m3']\n",
      "['新竹', '新竹市', '7', '2023-11-12 17:00', 'μg/m3']\n",
      "['竹東', '新竹縣', '3', '2023-11-12 17:00', 'μg/m3']\n",
      "['湖口', '新竹縣', '8', '2023-11-12 17:00', 'μg/m3']\n",
      "['龍潭', '桃園市', '4', '2023-11-12 17:00', 'μg/m3']\n",
      "['平鎮', '桃園市', '3', '2023-11-12 17:00', 'μg/m3']\n",
      "['觀音', '桃園市', '9', '2023-11-12 17:00', 'μg/m3']\n",
      "['大園', '桃園市', '5', '2023-11-12 17:00', 'μg/m3']\n",
      "['桃園', '桃園市', '4', '2023-11-12 17:00', 'μg/m3']\n",
      "['大同', '臺北市', '11', '2023-11-12 17:00', 'μg/m3']\n",
      "['松山', '臺北市', '10', '2023-11-12 17:00', 'μg/m3']\n",
      "['古亭', '臺北市', '10', '2023-11-12 17:00', 'μg/m3']\n",
      "['萬華', '臺北市', '6', '2023-11-12 17:00', 'μg/m3']\n",
      "['中山', '臺北市', '7', '2023-11-12 17:00', 'μg/m3']\n",
      "['士林', '臺北市', '9', '2023-11-12 17:00', 'μg/m3']\n",
      "['淡水', '新北市', '10', '2023-11-12 17:00', 'μg/m3']\n",
      "['林口', '新北市', '3', '2023-11-12 17:00', 'μg/m3']\n",
      "['菜寮', '新北市', '6', '2023-11-12 17:00', 'μg/m3']\n",
      "['新莊', '新北市', '7', '2023-11-12 17:00', 'μg/m3']\n",
      "['板橋', '新北市', '3', '2023-11-12 17:00', 'μg/m3']\n",
      "['土城', '新北市', '7', '2023-11-12 17:00', 'μg/m3']\n",
      "['新店', '新北市', '8', '2023-11-12 17:00', 'μg/m3']\n",
      "['萬里', '新北市', '7', '2023-11-12 17:00', 'μg/m3']\n",
      "['汐止', '新北市', '8', '2023-11-12 17:00', 'μg/m3']\n",
      "['基隆', '基隆市', '4', '2023-11-12 17:00', 'μg/m3']\n"
     ]
    }
   ],
   "source": [
    "import json, csv\n",
    "\n",
    "with open(\"records.csv\", \"r\", encoding=\"utf-8\") as csvf:\n",
    "    csvfile = csv.reader(csvf)\n",
    "    for row in csvfile:\n",
    "        print(row)"
   ]
  }
 ],
 "metadata": {
  "kernelspec": {
   "display_name": ".venv",
   "language": "python",
   "name": "python3"
  },
  "language_info": {
   "codemirror_mode": {
    "name": "ipython",
    "version": 3
   },
   "file_extension": ".py",
   "mimetype": "text/x-python",
   "name": "python",
   "nbconvert_exporter": "python",
   "pygments_lexer": "ipython3",
   "version": "3.10.8"
  }
 },
 "nbformat": 4,
 "nbformat_minor": 2
}
