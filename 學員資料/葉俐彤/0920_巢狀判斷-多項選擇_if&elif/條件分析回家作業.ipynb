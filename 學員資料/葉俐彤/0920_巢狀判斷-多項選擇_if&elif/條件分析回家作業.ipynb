{
 "cells": [
  {
   "cell_type": "markdown",
   "metadata": {},
   "source": [
    "### BMI計算後分析\n",
    "![](https://raw.githubusercontent.com/roberthsu2003/__11209python_school__/main/images/pic1.png)"
   ]
  },
  {
   "cell_type": "code",
   "execution_count": 10,
   "metadata": {},
   "outputs": [
    {
     "name": "stdout",
     "output_type": "stream",
     "text": [
      "請輸入身高，單位為（公分）：177.0\n",
      "請輸入體重，單位為（公斤）：80.0\n",
      "您的BMI是:25.53544639152223\n",
      "您的體重過重\n"
     ]
    }
   ],
   "source": [
    "import pyinputplus as pyip\n",
    "cm = pyip.inputFloat(\"請輸入身高，單位為（公分）：\",min=0)\n",
    "print(cm)\n",
    "kg = pyip.inputFloat(\"請輸入體重，單位為（公斤）：\", min=0)\n",
    "print(kg)\n",
    "\n",
    "# BMI公式＝體重（公斤）除以 身高平方（公尺）\n",
    "\n",
    "bmi=kg / (cm/100) ** 2\n",
    "print(f\"您的BMI是:{bmi}\")\n",
    "\n",
    "if bmi > 30:\n",
    "    body=\"肥胖\"\n",
    "elif bmi > 25:\n",
    "    body=\"過重\"\n",
    "elif bmi > 18.5:\n",
    "    body=\"正常\"\n",
    "else:\n",
    "    body=\"太輕\"\n",
    "\n",
    "print(f\"您的體重{body}\")\n"
   ]
  },
  {
   "cell_type": "markdown",
   "metadata": {},
   "source": [
    "### 血壓分析\n",
    "![](https://raw.githubusercontent.com/roberthsu2003/__11209python_school__/e1b5201c003dde766fa3a411b0bbbdc73e134260/images/pic2.png)"
   ]
  },
  {
   "cell_type": "code",
   "execution_count": 4,
   "metadata": {},
   "outputs": [
    {
     "name": "stdout",
     "output_type": "stream",
     "text": [
      "請輸入收縮壓：130\n",
      "請輸入舒張壓：90\n",
      "你的高血壓數據:高血壓二期\n"
     ]
    }
   ],
   "source": [
    "# 我原本寫的(是錯的！)\n",
    "import pyinputplus as pyip\n",
    "\n",
    "sbp = pyip.inputInt(\"請輸入收縮壓：\")\n",
    "print(sbp)\n",
    "dbp = pyip.inputInt(\"請輸入舒張壓：\")\n",
    "print(dbp)\n",
    "\n",
    "if sbp < 120 and dbp < 80:\n",
    "    acc=\"正常\"\n",
    "elif 120< sbp <129 and dbp < 80:  # sbp介於120-129，所以要<130\n",
    "    acc='血壓升高'\n",
    "elif sbp >= 130 and dbp < 80:\n",
    "    acc='單純收縮期高血壓'\n",
    "elif 130< sbp <139 or 80 < dbp <89 :\n",
    "    acc='高血壓一期'\n",
    "else: \n",
    "    acc='高血壓二期'\n",
    "\n",
    "\n",
    "print(f\"你的高血壓數據:{acc}\")\n"
   ]
  },
  {
   "cell_type": "code",
   "execution_count": 3,
   "metadata": {},
   "outputs": [
    {
     "name": "stdout",
     "output_type": "stream",
     "text": [
      "請輸入收縮壓:139\n",
      "請輸入舒張壓:88\n",
      "高血壓一期\n"
     ]
    }
   ],
   "source": [
    "''' \n",
    "0922上課的解答\n",
    "多項選擇連續的數值，從小做到大(>120開始)\n",
    "*出現prompt=參數(定義用)，對應內容的引數值(原料)\n",
    "*prompt:str=\"\" 定義裡面的類型要放字串\n",
    "*(參數：投幣機說明：可以投5元 10元)／引數值：我去呼叫，這個投幣機，我投了多少錢？)\n",
    "and是if裡面又有if，等於篩選是否兩個條件都成立\n",
    "\n",
    "辨認有多少條件因素並依序放入\n",
    "'''\n",
    "\n",
    "if sbp < 120:\n",
    "    status=\"正常\" \n",
    "elif 120< sbp <130 and dbp < 80:\n",
    "    status=\"血壓升高\"\n",
    "\n",
    "\n",
    "import pyinputplus as pyip\n",
    "sbp = pyip.inputInt(prompt=\"請輸入收縮壓:\")\n",
    "# 後面可以加入你的限制(e.g.最大or最小)\n",
    "\n",
    "print(sbp)\n",
    "# 用pyip後面可以加print，畫面比較好看，才會顯示輸入內容\n",
    "\n",
    "dbp = pyip.inputInt(prompt=\"請輸入舒張壓:\")\n",
    "print(dbp)\n",
    "\n",
    "status = \"\"\n",
    "# 建議這個變數寫在外面，其他語言不能跟python一樣寫在裡面\n",
    "\n",
    "if sbp < 120 and dbp<80:\n",
    "    status = \"正常\"  # 這邊一開始可以先寫pass=我先不做任何事情\n",
    "elif sbp < 130 and dbp<80: # 這邊篩下來的是sbp>120的，所以我要找sbp 120-129的就下 sbp>130\n",
    "    status = '血壓升高'\n",
    "elif sbp >= 130 and dbp < 80:\n",
    "    status = '單純收縮期高血壓'\n",
    "elif sbp < 140 or (dbp>=80 and dbp<90): # dbp要介於80-89，所以下括號辨別是不是介於這個條件\n",
    "    status = '高血壓一期'\n",
    "elif sbp >= 140 or dbp >= 90:\n",
    "    status = '高血壓二期'\n",
    "    \n",
    "\n",
    "print(status)"
   ]
  },
  {
   "cell_type": "code",
   "execution_count": 8,
   "metadata": {},
   "outputs": [
    {
     "name": "stdout",
     "output_type": "stream",
     "text": [
      "請輸入收縮壓：135\n",
      "請輸入舒張壓：85\n",
      "你的高血壓數據:高血壓一期\n"
     ]
    }
   ],
   "source": [
    "# 改寫我原本寫的\n",
    "\n",
    "import pyinputplus as pyip\n",
    "\n",
    "sbp = pyip.inputInt(\"請輸入收縮壓：\")\n",
    "print(sbp)\n",
    "dbp = pyip.inputInt(\"請輸入舒張壓：\")\n",
    "print(dbp)\n",
    "acc=\"\"\n",
    "\n",
    "if sbp < 120 and dbp < 80:\n",
    "    acc=\"正常\"\n",
    "elif sbp <130 and dbp < 80:  # sbp介於120-129，所以要<130\n",
    "    acc='血壓升高'\n",
    "elif sbp >=130 and dbp <80:\n",
    "    acc='單純收縮期高血壓'\n",
    "elif sbp <140 or dbp < 90:\n",
    "    acc='高血壓一期'\n",
    "elif sbp >=140 or dbp >= 90:\n",
    "    acc='高血壓二期'\n",
    "\n",
    "print(f\"你的高血壓數據:{acc}\")\n"
   ]
  },
  {
   "cell_type": "code",
   "execution_count": null,
   "metadata": {},
   "outputs": [],
   "source": [
    "# 老師的其他寫法\n",
    "\n",
    "sbp = int(input(\"請輸入收縮壓:\"))\n",
    "dbp = int(input(\"請輸入舒張壓:\"))\n",
    "suggestion =  \"\"\n",
    "if sbp < 120 and dbp < 80:\n",
    "   suggestion = \"正常\"\n",
    "\n",
    "if 120 <= sbp <= 129 and dbp < 80:\n",
    "   suggestion = \"高血壓升高\"\n",
    "\n",
    "if 130 <= sbp <= 139 or 80 <= dbp <= 89:\n",
    "   suggestion = \"高血壓一期\"\n",
    "\n",
    "if sbp >= 140 or dbp >= 90:\n",
    "   suggestion = \"高血壓二期\"\n",
    "\n",
    "if sbp >= 130 and dbp < 80:\n",
    "   suggestion = \"單純收縮期高血壓\"\n",
    "\n",
    "print(suggestion)"
   ]
  },
  {
   "cell_type": "code",
   "execution_count": 1,
   "metadata": {},
   "outputs": [
    {
     "name": "stdout",
     "output_type": "stream",
     "text": [
      "正常\n"
     ]
    }
   ],
   "source": [
    "# 老師的其他寫法\n",
    "\n",
    "sbp = int(input(\"請輸入收縮壓:\"))\n",
    "dbp = int(input(\"請輸入舒張壓:\"))\n",
    "\n",
    "if sbp >= 140 or dbp >= 90:\n",
    "   suggestion = \"高血壓二期\"\n",
    "elif sbp >= 130 or 80 <= dbp <= 89:\n",
    "   suggestion = \"高血壓一期\"\n",
    "elif sbp >= 120 and dbp < 80:\n",
    "   suggestion = \"血壓升高\"\n",
    "elif dbp < 80:\n",
    "   suggestion = \"正常\"\n",
    "   \n",
    "\n",
    "if sbp >= 130 and dbp < 80:\n",
    "   suggestion = \"單純收縮期\\n高血壓\"\n",
    "\n",
    "print(suggestion)"
   ]
  }
 ],
 "metadata": {
  "kernelspec": {
   "display_name": ".venv",
   "language": "python",
   "name": "python3"
  },
  "language_info": {
   "codemirror_mode": {
    "name": "ipython",
    "version": 3
   },
   "file_extension": ".py",
   "mimetype": "text/x-python",
   "name": "python",
   "nbconvert_exporter": "python",
   "pygments_lexer": "ipython3",
   "version": "3.10.8"
  },
  "orig_nbformat": 4
 },
 "nbformat": 4,
 "nbformat_minor": 2
}
