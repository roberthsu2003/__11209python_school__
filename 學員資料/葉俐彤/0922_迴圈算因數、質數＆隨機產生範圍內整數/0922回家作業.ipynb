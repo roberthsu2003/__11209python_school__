{
 "cells": [
  {
   "cell_type": "code",
   "execution_count": 38,
   "metadata": {},
   "outputs": [
    {
     "name": "stdout",
     "output_type": "stream",
     "text": [
      "20 的因數: 1 \n",
      "20 的因數: 2 \n",
      "20 的因數: 4 \n",
      "20 的因數: 5 \n",
      "20 的因數: 10 \n",
      "20 的因數: 20 \n"
     ]
    }
   ],
   "source": [
    "# 求所有因數\n",
    "# num = int(input(\"請輸入整數，求所有因數:\"))\n",
    "# print(num,\"的因數:\")\n",
    "# 因數＝可以整除他的所有數＝餘數為0\n",
    "# 用while迴圈寫，整除到被除數＝Num為止\n",
    "\n",
    "x=1\n",
    "num =int(input(\"請輸入整數，求所有的因數：\")) \n",
    "while (True):\n",
    "    if (num % x) == 0:\n",
    "        print(num,\"的因數:\", x,\"\")\n",
    "        x+= 1\n",
    "        if x <= num:\n",
    "            continue\n",
    "        else:\n",
    "            break\n",
    "    else: \n",
    "        x += 1"
   ]
  },
  {
   "cell_type": "code",
   "execution_count": 2,
   "metadata": {},
   "outputs": [
    {
     "name": "stdout",
     "output_type": "stream",
     "text": [
      "請輸入兩數,求兩數公因數:\n",
      "第一個數: 33\n",
      "第二個數: 11\n",
      "(33, 11)的公因數為1\n",
      "(33, 11)的公因數為11\n"
     ]
    }
   ],
   "source": [
    "# 求公因數\n",
    "# print(\"請輸入2數,求2數公因數:\")\n",
    "# n = int(input('請輸入第1個數:'))\n",
    "# print(n)\n",
    "# m = int(input('請輸入第2個數:'))\n",
    "# print(m)\n",
    "# w = n / \n",
    "\n",
    "# 公因數＝除以這兩個數的餘數都為0（and）\n",
    "\n",
    "print(\"請輸入兩數,求兩數公因數:\")\n",
    "n = int(input(\"請輸入第一個數:\"))\n",
    "print(\"第一個數:\", n)\n",
    "m = int(input(\"請輸入第二個數:\"))\n",
    "print(\"第二個數:\", m)\n",
    "\n",
    "q=1\n",
    "while (True):\n",
    "    if (n % q == 0) and (m % q == 0):\n",
    "        print(f\"{n, m}的公因數為{q}\")\n",
    "        q += 1\n",
    "        if q <= n and q<= m:\n",
    "            continue\n",
    "        else:\n",
    "            break\n",
    "    else:\n",
    "        q += 1"
   ]
  },
  {
   "cell_type": "code",
   "execution_count": 39,
   "metadata": {},
   "outputs": [
    {
     "name": "stdout",
     "output_type": "stream",
     "text": [
      "1到20的質數是:\n",
      "2\n",
      "3\n",
      "5\n",
      "7\n",
      "11\n",
      "13\n",
      "17\n",
      "19\n"
     ]
    }
   ],
   "source": [
    "# 求2~100範圍內每一個質數\n",
    "# end = int(input(\"請輸入end值:\"))\n",
    "# print(f\"1到{end}的質數是:\")\n",
    "# 質數：在大於1的正整數中，除了1和此整數自己以外，無法被其他正整數整除的數；質數是只有1和本身，共2個因數的數\n",
    "\n",
    "end = int(input(\"請輸入end值:\")) \n",
    "print(f\"1到{end}的質數是:\")\n",
    "\n",
    "for x in range(2, end+1):\n",
    "    for y in range(2, end):\n",
    "        if (x % y == 0) and (x != y):\n",
    "            break\n",
    "    else:\n",
    "        print(x)"
   ]
  },
  {
   "cell_type": "code",
   "execution_count": 1,
   "metadata": {},
   "outputs": [
    {
     "name": "stdout",
     "output_type": "stream",
     "text": [
      "2到10的質數是:\n",
      "2 3 5 7 "
     ]
    }
   ],
   "source": [
    "# 另一種寫法\n",
    "end = int(input(\"請輸入數值:\"))\n",
    "print(f\"2到{end}的質數是:\")\n",
    "for i in range(2, end+1):\n",
    "    for j in range(2, i): #為什麼這裡stop可以是i？\n",
    "        if i % j == 0:\n",
    "            break\n",
    "    else:\n",
    "        print(i, end=\" \")"
   ]
  },
  {
   "cell_type": "code",
   "execution_count": 2,
   "metadata": {},
   "outputs": [
    {
     "name": "stdout",
     "output_type": "stream",
     "text": [
      "================猜數字遊戲================:\n",
      "\n",
      "錯！大一點，你已經猜了1次\n",
      "錯！大一點，你已經猜了2次\n",
      "錯！大一點，你已經猜了3次\n",
      "錯！小一點，你已經猜了4次\n",
      "錯！大一點，你已經猜了5次\n",
      "錯！大一點，你已經猜了6次\n",
      "錯！大一點，你已經猜了7次\n",
      "錯！大一點，你已經猜了8次\n",
      "豬頭你猜中了！答案是79！你總共猜了9次！\n"
     ]
    }
   ],
   "source": [
    "'''\n",
    "- 猜中要告知猜了幾次\n",
    "- 沒猜中要有提醒\n",
    "例如:\n",
    "\n",
    "要猜的數值是:34\n",
    "\n",
    "猜數字範圍1~100:50\n",
    "提示:\n",
    "再小一點\n",
    "您已經猜了1次\n",
    "\n",
    "猜數字範圍1~49:10\n",
    "提示:\n",
    "再大一點\n",
    "您已經猜了2次\n",
    "猜數字範圍11~49:34\n",
    "\n",
    "您猜中了,答案是34\n",
    "您總共猜了3次\n",
    "'''\n",
    "\n",
    "# import random\n",
    "# min = 1\n",
    "# max = 100\n",
    "# count = 0\n",
    "# target = random.randint(min, max)\n",
    "# print(\"===============猜數字遊戲=================:\\n\")\n",
    "#while(True):\n",
    "#    keyin = input(f\"猜數字範圍{min}~{max}\")\n",
    "\n",
    "import random\n",
    "answer = random.randint(1, 100)\n",
    "print(\"================猜數字遊戲================:\\n\")\n",
    "min = 1\n",
    "max = 100\n",
    "count = 0\n",
    "while (True):\n",
    "    keyin = int(input(f\"請輸入要猜的數字{min}~{max}:\"))\n",
    "    if keyin != answer:\n",
    "        if keyin < answer:\n",
    "            count += 1\n",
    "            print(f\"錯！大一點，你已經猜了{count}次\")\n",
    "            min = keyin\n",
    "            continue\n",
    "        if keyin > answer:\n",
    "            count += 1\n",
    "            print(f\"錯！小一點，你已經猜了{count}次\")\n",
    "            max = keyin\n",
    "            continue\n",
    "    else:\n",
    "        count += 1\n",
    "        print(f\"豬頭你猜中了！答案是{answer}！你總共猜了{count}次！\")\n",
    "        break"
   ]
  },
  {
   "cell_type": "code",
   "execution_count": 2,
   "metadata": {},
   "outputs": [
    {
     "name": "stdout",
     "output_type": "stream",
     "text": [
      "================猜數字遊戲================:\n",
      "\n",
      "請輸入提示範圍內的數字\n",
      "你一共猜了1次\n",
      "再大一點\n",
      "你一共猜了2次\n",
      "再小一點\n",
      "你一共猜了3次\n",
      "再大一點\n",
      "你一共猜了4次\n",
      "再小一點\n",
      "你一共猜了5次\n",
      "再小一點\n",
      "你一共猜了6次\n",
      "再大一點\n",
      "你一共猜了7次\n",
      "恭喜你，猜對了，答案是59！\n"
     ]
    }
   ],
   "source": [
    "\"\"\"老師的答案\"\"\"\n",
    "# 先檢查有沒有在範圍內\n",
    "# 比較嚴格的條件寫前面＞猜對答案\n",
    "# 如果else裡面有if，可以直接寫成elif\n",
    "# 1~100是包含1跟100，所以如果有猜55是錯的要小一點，那提示的範圍會變成1~54；同理如果要大一點，提示數字要加1\n",
    "# 可以把一樣的內容盡量寫在外面，不用每一種選項都寫重複的\n",
    "# Python要執行了才會抓到錯誤(缺點)，但C++跟Java會幫忙檢查&再寫的時候就會提醒有錯\n",
    "\n",
    "import random\n",
    "answer = random.randint(1, 100)\n",
    "print(\"================猜數字遊戲================:\\n\")\n",
    "min = 1\n",
    "max = 100\n",
    "count = 0\n",
    "while (True):\n",
    "    count += 1\n",
    "    keyin = int(input(f\"請輸入要猜的數字{min}~{max}:\"))\n",
    "    if (1 <= keyin <= max): # random的module可以這樣寫\n",
    "        if keyin == answer:\n",
    "            print(f\"恭喜你，猜對了，答案是{answer}！\")\n",
    "            break\n",
    "        elif keyin > answer:\n",
    "            max = keyin - 1\n",
    "            print(f\"再小一點\")\n",
    "        elif keyin < answer:\n",
    "            min = keyin + 1\n",
    "            print(f\"再大一點\")\n",
    "    else:\n",
    "        print(f\"請輸入提示範圍內的數字\")\n",
    "    print(f\"你一共猜了{count}次\")"
   ]
  }
 ],
 "metadata": {
  "kernelspec": {
   "display_name": ".venv",
   "language": "python",
   "name": "python3"
  },
  "language_info": {
   "codemirror_mode": {
    "name": "ipython",
    "version": 3
   },
   "file_extension": ".py",
   "mimetype": "text/x-python",
   "name": "python",
   "nbconvert_exporter": "python",
   "pygments_lexer": "ipython3",
   "version": "3.10.8"
  },
  "orig_nbformat": 4
 },
 "nbformat": 4,
 "nbformat_minor": 2
}
