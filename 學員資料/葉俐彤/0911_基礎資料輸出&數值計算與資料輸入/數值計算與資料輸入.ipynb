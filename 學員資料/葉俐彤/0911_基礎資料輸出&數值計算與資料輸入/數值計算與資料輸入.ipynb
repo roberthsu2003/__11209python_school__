{
 "cells": [
  {
   "cell_type": "markdown",
   "metadata": {},
   "source": [
    "# ipython 安裝"
   ]
  },
  {
   "cell_type": "markdown",
   "metadata": {},
   "source": [
    "# numpy\n",
    "Numpy 是 Python 的一個重要模組\n",
    "Python 處理龐大資料時，其原生 list 效能表現並不理想\n",
    "Numpy 具備平行處理的能力，可以將操作動作一次套用在大型陣列上\n",
    "用陣列的方式取代Python的列表，運算速度遠高於Python列表運算速度\n",
    "核心是C跟Ｃ++在操作\n",
    "\n",
    "numpy和python不一樣的地方在於不需使用print(),可以直接輸出\n",
    "\n",
    "### 測試執行\n",
    "### data = {i:np.random.randn() for i in range(7)} \n",
    "***聽不懂***\n",
    ">>> 隨機標準正態分布（範圍在7以內）的概率密機數\n",
    "\n",
    "### 利用Tab完成整行敘述 \n",
    "***顯示錯誤***\n",
    "In [1]: an_apple = 27 \n",
    "In [2]: an_example = 42\n",
    "In [3]: an<Tab> \n",
    "an_apple and an_example any"
   ]
  },
  {
   "cell_type": "code",
   "execution_count": 20,
   "metadata": {},
   "outputs": [
    {
     "data": {
      "text/plain": [
       "4"
      ]
     },
     "execution_count": 20,
     "metadata": {},
     "output_type": "execute_result"
    }
   ],
   "source": [
    "'''Python數學運算子'''\n",
    "\n",
    "# Python的int整數\n",
    "5 # int整數，數字前不可以加0\n",
    "\n",
    "# 正整數（正負概念）\n",
    "123\n",
    "+123 # 得123\n",
    "\n",
    "# 負整數\n",
    "-123 # 得-123\n",
    "\n",
    "# floats浮點數除法\n",
    "9.0/1.8 #得 5.0\n",
    "\n",
    "# int 整數除法\n",
    "9//3 # 得3\n",
    "\n",
    "# 變數可以運算(就X的概念)\n",
    "a=95\n",
    "a     # 得95\n",
    "a-3   # 得92\n",
    "\n",
    "# 調整變數內容（運算後更新變數資料）\n",
    "a=a-3 # 95-3\n",
    "a     # 得92\n",
    "\n",
    "a=95\n",
    "temp=a-3\n",
    "a=temp\n",
    "a     # 得92\n",
    "\n",
    "# 餘數 %\n",
    "9%5 #得4\n",
    "\n",
    "# divmod(a, b)\n",
    "# 分區模式（商, 餘數）\n",
    "divmod(4, 1) # 得（4,0)\n",
    "divmod(5, 3) # 得 (1,2)\n",
    "\n",
    "9//5 # 求商 得1\n",
    "9%5 # 求餘數 得4\n"
   ]
  },
  {
   "cell_type": "code",
   "execution_count": 36,
   "metadata": {},
   "outputs": [
    {
     "data": {
      "text/plain": [
       "16"
      ]
     },
     "execution_count": 36,
     "metadata": {},
     "output_type": "execute_result"
    }
   ],
   "source": [
    "# 為什麼要學進位制？ 電腦是這樣紀錄事情的\n",
    "# 電腦最小能儲存的單位位元(bit)都是2進制,8個位元組可以表示為byte,每個位元組可以記錄8種變化,可紀錄值為256種變化\n",
    "\n",
    "'''二進制'''\n",
    "# 0b 0B + int整數\n",
    "# 二進制 binary（只有 0、1）\n",
    "# 2 = 10\n",
    "# 3 = 11\n",
    "# 4 = 100\n",
    "# 5 = 101\n",
    "# 6 = 110\n",
    "# 7 = 111\n",
    "# 8 = 1000\n",
    "\n",
    "0b10 # 二進制的10換算為十進制 得 2\n",
    "0b1000 # 二進制的1000換算為十進制 得8\n",
    "\n",
    "'''八進制'''\n",
    "# 0o 0O + int整數\n",
    "# 1、2、3、4、5、6、7、10、11、12、13、14、15、16、17、20\n",
    "\n",
    "0O10 # 八進制的10換算成十進制 得出8\n",
    "\n",
    "'''十六進制 > 最常使用'''\n",
    "# 0x 0X + int整數\n",
    "# 1、2、3、4、5、6、7、8、9、A、B、C、D、E、F、10、11、12、13、14、15、1A、1B......FFFF\n",
    "\n",
    "0xFFFF\n",
    "0x10 # 六進制的10換算為十進制 得出16\n",
    "\n",
    "'''\n",
    "1. 二進制跟十六進制之間很好轉換\n",
    "2. 可以用2、8、16的次方數來快速辨認數值\n",
    "'''"
   ]
  },
  {
   "cell_type": "code",
   "execution_count": 53,
   "metadata": {},
   "outputs": [
    {
     "data": {
      "text/plain": [
       "3"
      ]
     },
     "execution_count": 53,
     "metadata": {},
     "output_type": "execute_result"
    }
   ],
   "source": [
    "# 類型轉換\n",
    "int(True)  # 得1 \n",
    "int(False) # 得0\n",
    "\n",
    "int(98.6)  # 得98\n",
    "int(1.0e5) # 得10000 固定寫法，等於1後面有4個零的意思\n",
    "\n",
    "int('99')  # 得99 str轉為int\n",
    "int('-23') # 得-23\n",
    "int('+12') # 得12\n",
    "int(12345) # 得12345\n",
    "\n",
    "# 字串內容若是文字、floats浮點數，則不能轉換為int整數 e.g. int('bottles')，字串只有在是內容整數的情況下才可以轉換為int整數\n",
    "\n",
    "4 + 7.0   # 得11.0\n",
    "\n",
    "# Booleans布林值可以跟int整數跟floats浮點數直接運算\n",
    "True + 2  # 得3 True預設為1\n",
    "False + 5.0 # 得5.0 False預設為0"
   ]
  },
  {
   "cell_type": "code",
   "execution_count": 54,
   "metadata": {},
   "outputs": [
    {
     "data": {
      "text/plain": [
       "10000000000000000000000000000000000000000000000000000000000000000000000000000000000000000000000000000"
      ]
     },
     "execution_count": 54,
     "metadata": {},
     "output_type": "execute_result"
    }
   ],
   "source": [
    "'''int整數的範圍'''\n",
    "gogo1 = 10**100\n",
    "gogo1"
   ]
  },
  {
   "cell_type": "code",
   "execution_count": 55,
   "metadata": {},
   "outputs": [
    {
     "data": {
      "text/plain": [
       "100000000000000000000000000000000000000000000000000000000000000000000000000000000000000000000000000000000000000000000000000000000000000000000000000000000000000000000000000000000000000000000000000000000"
      ]
     },
     "execution_count": 55,
     "metadata": {},
     "output_type": "execute_result"
    }
   ],
   "source": [
    "gogo1 * gogo1"
   ]
  },
  {
   "cell_type": "code",
   "execution_count": 1,
   "metadata": {},
   "outputs": [
    {
     "data": {
      "text/plain": [
       "10000.0"
      ]
     },
     "execution_count": 1,
     "metadata": {},
     "output_type": "execute_result"
    }
   ],
   "source": [
    "'''float浮點數'''\n",
    "float(True)   # 得1.0\n",
    "float(False)  # 得0.0\n",
    "float(98)     # 得98.0\n",
    "float('99')   # 得99.0\n",
    "float('98.3') # 得98.3\n",
    "float('-1.5') # 得-1.5\n",
    "float('1.0e4') #得10000.0"
   ]
  },
  {
   "cell_type": "code",
   "execution_count": 68,
   "metadata": {},
   "outputs": [
    {
     "data": {
      "text/plain": [
       "\"'There's the man that shot my paw!' cried the limping hound.\""
      ]
     },
     "execution_count": 68,
     "metadata": {},
     "output_type": "execute_result"
    }
   ],
   "source": [
    "'''字串'''\n",
    "'snap'\n",
    "\"crackle\" # 得'crackle'\n",
    "\"'Nay,' said the money.\"\n",
    "'A \"two by four\" is actually 1 1⁄2\" × 3 1⁄2\".'\n",
    "\"'There's the man that shot my paw!' cried the limping hound.\" "
   ]
  },
  {
   "cell_type": "code",
   "execution_count": 72,
   "metadata": {},
   "outputs": [
    {
     "data": {
      "text/plain": [
       "'Apple Arcade 推出的最新遊戲《Next Stop Nowhere》，由位於洛杉磯的開發商 Night School Studio 出品。這款遊戲是太空公路之旅的夥伴冒險，其中不同角色間展開了一些精彩的劇情。在銀河系的外圍，每個人和所有事物之間都有充分的空間，Night School 希望這款遊戲可為近來可能感到孤立的玩家提供一些慰藉。'"
      ]
     },
     "execution_count": 72,
     "metadata": {},
     "output_type": "execute_result"
    }
   ],
   "source": [
    "'''多行文字'''\n",
    "\"\"\"Hello!\"\"\" # 得Hello!\n",
    "\n",
    "# 單行文字\n",
    "poem = \"Apple Arcade 推出的最新遊戲《Next Stop Nowhere》，由位於洛杉磯的開發商 Night School Studio 出品。這款遊戲是太空公路之旅的夥伴冒險，其中不同角色間展開了一些精彩的劇情。在銀河系的外圍，每個人和所有事物之間都有充分的空間，Night School 希望這款遊戲可為近來可能感到孤立的玩家提供一些慰藉。\"\n",
    "poem"
   ]
  },
  {
   "cell_type": "code",
   "execution_count": 80,
   "metadata": {},
   "outputs": [
    {
     "data": {
      "text/plain": [
       "'Apple Arcade 推出的最新遊戲《Next Stop Nowhere》，由位於洛杉磯的開發商 Night School Studio 出品。這款遊戲是太空公路之旅的夥伴冒險，其中不同角色間展開了一些精彩的劇情。在銀河系的外圍，每個人和所有事物之間都有充分的空間，Night School希望這款遊戲可為近來可能感到孤立的玩家提供一些慰藉。'"
      ]
     },
     "execution_count": 80,
     "metadata": {},
     "output_type": "execute_result"
    }
   ],
   "source": [
    "# 單行文字\n",
    "\"Apple Arcade 推出的最新遊戲《Next Stop Nowhere》，\\\n",
    "由位於洛杉磯的開發商 Night School Studio 出品。\\\n",
    "這款遊戲是太空公路之旅的夥伴冒險，其中不同角色間展開了一些精彩的劇情。\\\n",
    "在銀河系的外圍，每個人和所有事物之間都有充分的空間，Night School\\\n",
    "希望這款遊戲可為近來可能感到孤立的玩家提供一些慰藉。\""
   ]
  },
  {
   "cell_type": "code",
   "execution_count": 81,
   "metadata": {},
   "outputs": [
    {
     "data": {
      "text/plain": [
       "'Apple Arcade 推出的最新遊戲《Next Stop Nowhere》，由位於洛杉磯的開發商 Night School Studio 出品。\\n\\n這款遊戲是太空公路之旅的夥伴冒險，其中不同角色間展開了一些精彩的劇情。\\n\\n在銀河系的外圍，每個人和所有事物之間都有充分的空間，Night School 希望這款遊戲可為近來可能感到孤立的玩家提供一些慰藉。 '"
      ]
     },
     "execution_count": 81,
     "metadata": {},
     "output_type": "execute_result"
    }
   ],
   "source": [
    "# 單行文字\n",
    "poem2 = '''Apple Arcade 推出的最新遊戲《Next Stop Nowhere》，由位於洛杉磯的開發商 Night School Studio 出品。\n",
    "\n",
    "這款遊戲是太空公路之旅的夥伴冒險，其中不同角色間展開了一些精彩的劇情。\n",
    "\n",
    "在銀河系的外圍，每個人和所有事物之間都有充分的空間，Night School 希望這款遊戲可為近來可能感到孤立的玩家提供一些慰藉。 '''\n",
    "poem2"
   ]
  },
  {
   "cell_type": "code",
   "execution_count": 82,
   "metadata": {},
   "outputs": [
    {
     "name": "stdout",
     "output_type": "stream",
     "text": [
      "Apple Arcade 推出的最新遊戲《Next Stop Nowhere》，由位於洛杉磯的開發商 Night School Studio 出品。\n",
      "\n",
      "這款遊戲是太空公路之旅的夥伴冒險，其中不同角色間展開了一些精彩的劇情。\n",
      "\n",
      "在銀河系的外圍，每個人和所有事物之間都有充分的空間，Night School 希望這款遊戲可為近來可能感到孤立的玩家提供一些慰藉。 \n"
     ]
    }
   ],
   "source": [
    "print(poem2)"
   ]
  },
  {
   "cell_type": "code",
   "execution_count": 83,
   "metadata": {},
   "outputs": [
    {
     "name": "stdout",
     "output_type": "stream",
     "text": [
      "99 bottles would be enough.\n"
     ]
    }
   ],
   "source": [
    "print(99, 'bottles', 'would be enough.') "
   ]
  },
  {
   "cell_type": "code",
   "execution_count": 85,
   "metadata": {},
   "outputs": [
    {
     "name": "stdout",
     "output_type": "stream",
     "text": [
      "hello\n",
      "world\n"
     ]
    }
   ],
   "source": [
    "# 通常寫 pinrt 兩行時 python會自動斷行\n",
    "print('hello') # Python自己後面會加上隱藏的 end='\\n' 斷行指令\n",
    "print('world')"
   ]
  },
  {
   "cell_type": "code",
   "execution_count": 90,
   "metadata": {},
   "outputs": [
    {
     "name": "stdout",
     "output_type": "stream",
     "text": [
      "hello world\n"
     ]
    }
   ],
   "source": [
    "# 想要讓兩行不要斷行 改寫 end='\\n'這個指令中的斷行符號 end=''就可以\n",
    "print('hello', end='')\n",
    "print(' world')"
   ]
  },
  {
   "cell_type": "code",
   "execution_count": 91,
   "metadata": {},
   "outputs": [
    {
     "data": {
      "text/plain": [
       "''"
      ]
     },
     "execution_count": 91,
     "metadata": {},
     "output_type": "execute_result"
    }
   ],
   "source": [
    "''"
   ]
  },
  {
   "cell_type": "code",
   "execution_count": 92,
   "metadata": {},
   "outputs": [
    {
     "data": {
      "text/plain": [
       "''"
      ]
     },
     "execution_count": 92,
     "metadata": {},
     "output_type": "execute_result"
    }
   ],
   "source": [
    "\"\""
   ]
  },
  {
   "cell_type": "code",
   "execution_count": 93,
   "metadata": {},
   "outputs": [
    {
     "data": {
      "text/plain": [
       "''"
      ]
     },
     "execution_count": 93,
     "metadata": {},
     "output_type": "execute_result"
    }
   ],
   "source": [
    "''''''"
   ]
  },
  {
   "cell_type": "code",
   "execution_count": 94,
   "metadata": {},
   "outputs": [
    {
     "data": {
      "text/plain": [
       "''"
      ]
     },
     "execution_count": 94,
     "metadata": {},
     "output_type": "execute_result"
    }
   ],
   "source": [
    "\"\"\"\"\"\""
   ]
  },
  {
   "cell_type": "code",
   "execution_count": 101,
   "metadata": {},
   "outputs": [
    {
     "data": {
      "text/plain": [
       "'True'"
      ]
     },
     "execution_count": 101,
     "metadata": {},
     "output_type": "execute_result"
    }
   ],
   "source": [
    "# 用str轉為字串\n",
    "str(98.6)\n",
    "str(1.0e4)\n",
    "str(True)"
   ]
  },
  {
   "cell_type": "code",
   "execution_count": 109,
   "metadata": {},
   "outputs": [
    {
     "data": {
      "text/plain": [
       "'abcdefguuu'"
      ]
     },
     "execution_count": 109,
     "metadata": {},
     "output_type": "execute_result"
    }
   ],
   "source": [
    "# 透過 += 賦值\n",
    "# a += 5 等同於輸入 a=a+5 替變數更新值\n",
    "alphabet = ''\n",
    "alphabet += 'abcdefg'\n",
    "alphabet += 'uuu'\n",
    "alphabet"
   ]
  },
  {
   "cell_type": "code",
   "execution_count": 123,
   "metadata": {},
   "outputs": [
    {
     "data": {
      "text/plain": [
       "'abcdefghijklmnopqrstuvwxyz'"
      ]
     },
     "execution_count": 123,
     "metadata": {},
     "output_type": "execute_result"
    }
   ],
   "source": [
    "# \\連結字串 下一行接著說、呈現在一起\n",
    "alphabet = 'abcdefg'\\\n",
    "'hijklmnop'\\\n",
    "'qrstuv'\\\n",
    "'wxyz'\\\n",
    "\n",
    "alphabet"
   ]
  },
  {
   "cell_type": "code",
   "execution_count": 142,
   "metadata": {},
   "outputs": [
    {
     "data": {
      "text/plain": [
       "'current inventory99'"
      ]
     },
     "execution_count": 142,
     "metadata": {},
     "output_type": "execute_result"
    }
   ],
   "source": [
    "# 字串使用加法運算\n",
    "# 字串無法自動加數值\n",
    "bottles = 99\n",
    "base = ''\n",
    "base = base + 'current inventory' \n",
    "# base += 'current inventory'\n",
    "base \n",
    "# 得'current inventory'\n",
    "\n",
    "base = base + str(bottles)\n",
    "base\n",
    "# 'current inventory99'\n"
   ]
  },
  {
   "cell_type": "code",
   "execution_count": 146,
   "metadata": {},
   "outputs": [
    {
     "name": "stdout",
     "output_type": "stream",
     "text": [
      "That's mine!\n"
     ]
    }
   ],
   "source": [
    "# 脱溢字元（特殊字元）\n",
    "'''\n",
    "- 反斜線作為跳脫字元，可用於引用特殊字元。\n",
    "\t- \\\\ 顯示反斜線\n",
    "\t- \\’ 顯示單引號\n",
    "\t- \\” 顯示雙引號\n",
    "    - \\b 刪除前一個字元\n",
    "\t- \\n 換行\n",
    "\t- \\t 固定間隔'''\n",
    "    \n",
    "the_word = 'That\\'s mine!'\n",
    "print(the_word)"
   ]
  },
  {
   "cell_type": "code",
   "execution_count": 147,
   "metadata": {},
   "outputs": [
    {
     "name": "stdout",
     "output_type": "stream",
     "text": [
      "甄嬛傳\\\n"
     ]
    }
   ],
   "source": [
    "a = '甄嬛傳\\\\' # \\\\顯示反斜線\n",
    "print(a)"
   ]
  },
  {
   "cell_type": "code",
   "execution_count": 148,
   "metadata": {},
   "outputs": [
    {
     "name": "stdout",
     "output_type": "stream",
     "text": [
      "中飽私囊'\n"
     ]
    }
   ],
   "source": [
    "a = '中飽私囊\\'' # \\'顯示單引號\n",
    "print(a)"
   ]
  },
  {
   "cell_type": "code",
   "execution_count": 149,
   "metadata": {},
   "outputs": [
    {
     "name": "stdout",
     "output_type": "stream",
     "text": [
      "官官相護\t 自成一黨\n"
     ]
    }
   ],
   "source": [
    "b = '官官相護\\t 自成一黨' # \\t固定間隔 \n",
    "print(b)"
   ]
  },
  {
   "cell_type": "code",
   "execution_count": 152,
   "metadata": {},
   "outputs": [
    {
     "name": "stdout",
     "output_type": "stream",
     "text": [
      "不妥\n",
      "如今已經不是\n"
     ]
    }
   ],
   "source": [
    "c = '不妥\\n如今已經不是' # \\n 換行\n",
    "print(c)"
   ]
  },
  {
   "cell_type": "code",
   "execution_count": 153,
   "metadata": {},
   "outputs": [
    {
     "name": "stdout",
     "output_type": "stream",
     "text": [
      "遊戲：《鬼靈精大腳怪》\n",
      "說明：今天的遊戲更新為玩家開啟了一個全新的探索環境。從城鎮下方的新碼頭出發，乘渡輪前往新的小島，然後乘坐四輪驅動車四處巡遊，或者在衝浪遊戲中盡情衝浪。玩家還可以購買新船進行升級與比賽，或是出海捕捉鹹水魚。這是調皮大腳怪的暑假！\n",
      "\n",
      "遊戲：《迷你公路》\n",
      "說明：《迷你公路》推出了一項新更新，以透過 Fast Forward 模式協助加快道路網絡的建立，使玩家能選擇其遊戲速度。\n"
     ]
    }
   ],
   "source": [
    "games = '遊戲：《鬼靈精大腳怪》\\n說明：今天的遊戲更新為玩家開啟了一個全新的探索環境。從城鎮下方的新碼頭出發，乘渡輪前往新的小島，然後乘坐四輪驅動車四處巡遊，或者在衝浪遊戲中盡情衝浪。玩家還可以購買新船進行升級與比賽，或是出海捕捉鹹水魚。這是調皮大腳怪的暑假！\\n\\n遊戲：《迷你公路》\\n說明：《迷你公路》推出了一項新更新，以透過 Fast Forward 模式協助加快道路網絡的建立，使玩家能選擇其遊戲速度。' \n",
    "\n",
    "print(games)"
   ]
  },
  {
   "cell_type": "code",
   "execution_count": 154,
   "metadata": {},
   "outputs": [
    {
     "name": "stdout",
     "output_type": "stream",
     "text": [
      "\tabc\n"
     ]
    }
   ],
   "source": [
    "print('\\tabc') # \\t 固定間隔"
   ]
  },
  {
   "cell_type": "code",
   "execution_count": 155,
   "metadata": {},
   "outputs": [
    {
     "name": "stdout",
     "output_type": "stream",
     "text": [
      "a\tbc\n"
     ]
    }
   ],
   "source": [
    "print('a\\tbc')"
   ]
  },
  {
   "cell_type": "code",
   "execution_count": 156,
   "metadata": {},
   "outputs": [
    {
     "name": "stdout",
     "output_type": "stream",
     "text": [
      "\"I did nothing!\" he said. \"Not that either! Or the other thing.\"\n"
     ]
    }
   ],
   "source": [
    "# \\\" 顯示雙引號\n",
    "testimony = \"\\\"I did nothing!\\\" he said. \\\"Not that either! Or the other thing.\\\"\"\n",
    "print(testimony)"
   ]
  },
  {
   "cell_type": "code",
   "execution_count": 158,
   "metadata": {},
   "outputs": [
    {
     "name": "stdout",
     "output_type": "stream",
     "text": [
      "是你有\"眼光\"\n"
     ]
    }
   ],
   "source": [
    "fact = '是你有\\\"眼光\\\"'\n",
    "print(fact)"
   ]
  },
  {
   "cell_type": "code",
   "execution_count": 159,
   "metadata": {},
   "outputs": [
    {
     "data": {
      "text/plain": [
       "'Release the kraken! At once!'"
      ]
     },
     "execution_count": 159,
     "metadata": {},
     "output_type": "execute_result"
    }
   ],
   "source": [
    "'Release the kraken! ' + 'At once!'"
   ]
  },
  {
   "cell_type": "code",
   "execution_count": 161,
   "metadata": {},
   "outputs": [
    {
     "name": "stdout",
     "output_type": "stream",
     "text": [
      "Duck.Duck.Grey Duck!\n"
     ]
    }
   ],
   "source": [
    "a = 'Duck.' \n",
    "b=a\n",
    "c='Grey Duck!'\n",
    "a+b+c\n",
    "print(a, b, c)"
   ]
  },
  {
   "cell_type": "code",
   "execution_count": 10,
   "metadata": {},
   "outputs": [
    {
     "data": {
      "text/plain": [
       "int"
      ]
     },
     "execution_count": 10,
     "metadata": {},
     "output_type": "execute_result"
    }
   ],
   "source": [
    "'''輸入和輸出'''\n",
    "# input() 沒有參數\n",
    "# input(prompt) 一個參數prompt=提示\n",
    "# 參數都是字串str \n",
    "\n",
    "# print('請輸入整數') 一個參數\n",
    "# input() 跑出一個引數，只會是字串\n",
    "# 有一個參數，就會有一個引數\n",
    "# 可以用type檢查\n",
    "\n",
    "n1=int(input(\"請輸入整數:\")) \n",
    "type(n1)"
   ]
  },
  {
   "cell_type": "code",
   "execution_count": 1,
   "metadata": {},
   "outputs": [
    {
     "name": "stdout",
     "output_type": "stream",
     "text": [
      "你輸入的是 15\n"
     ]
    }
   ],
   "source": [
    "b=int(input('請輸入出生月份：'))\n",
    "print('你輸入的是', b)"
   ]
  },
  {
   "cell_type": "code",
   "execution_count": 170,
   "metadata": {},
   "outputs": [
    {
     "name": "stdout",
     "output_type": "stream",
     "text": [
      "3312\n",
      "3\n"
     ]
    }
   ],
   "source": [
    "# 內容轉為int整數\n",
    "c=int(input(\"int輸入c：\")) \n",
    "d=int(input(\"int輸入d：\"))\n",
    "\n",
    "# input內容運算\n",
    "f=a+b\n",
    "g=c+d\n",
    "print(f) # str字串\n",
    "print(g) # int整數"
   ]
  },
  {
   "cell_type": "code",
   "execution_count": 171,
   "metadata": {},
   "outputs": [
    {
     "name": "stdout",
     "output_type": "stream",
     "text": [
      "3\n",
      "5.1\n"
     ]
    }
   ],
   "source": [
    "c = int(input(\"int輸入c:\"))\n",
    "d = int(input(\"int輸入d:\")) \n",
    "g=c+d\n",
    "print(g) # int整數\n",
    "h = float(input(\"float輸入h:\"))\n",
    "i = float(input(\"float輸入i:\"))\n",
    "j=h+d\n",
    "print(j) # float浮點數"
   ]
  },
  {
   "cell_type": "code",
   "execution_count": 172,
   "metadata": {},
   "outputs": [
    {
     "name": "stdout",
     "output_type": "stream",
     "text": [
      "hello <class 'str'>\n"
     ]
    }
   ],
   "source": [
    "# .class 查詢變數資料型態\n",
    "a = input(\"輸入字串: \")\n",
    "print(a,a.__class__ ) \n"
   ]
  },
  {
   "cell_type": "code",
   "execution_count": 174,
   "metadata": {},
   "outputs": [
    {
     "name": "stdout",
     "output_type": "stream",
     "text": [
      "2 <class 'str'>\n",
      "4.5 <class 'float'>\n",
      "3 <class 'int'>\n",
      "1 <class 'int'>\n"
     ]
    }
   ],
   "source": [
    "# 輸入錯數值型態 會顯示錯誤\n",
    "a = input(\"輸入整數: \")\n",
    "print(a,a.__class__ )\n",
    "a = float(input(\"float輸入浮點數: \"))\n",
    "print(a,a.__class__ )\n",
    "a = int(input(\"int輸入整數:\"))\n",
    "print(a,a.__class__ )\n",
    "a = int(input(\"int輸入字串:\"))\n",
    "print(a,a.__class__ )"
   ]
  },
  {
   "cell_type": "code",
   "execution_count": 181,
   "metadata": {},
   "outputs": [
    {
     "data": {
      "text/plain": [
       "1"
      ]
     },
     "execution_count": 181,
     "metadata": {},
     "output_type": "execute_result"
    }
   ],
   "source": [
    "'''\n",
    "question:以下的資料輸出哪一個是錯的?(選擇題)\n",
    "(1) \"I can add integers, like \" + str(5) + \" to strings.\"\n",
    "(2) \"Isaid\"+(\"Hey\"*2)+\"Hey!\"\n",
    "(3) \"The correct answer to this multiple choice exercise is answer number\" + 2\n",
    "(4) True + False # 得出1\n",
    "'''\n",
    "\n",
    "# （3）\n",
    "True + False"
   ]
  },
  {
   "cell_type": "code",
   "execution_count": 182,
   "metadata": {},
   "outputs": [
    {
     "name": "stdout",
     "output_type": "stream",
     "text": [
      "2016\n"
     ]
    }
   ],
   "source": [
    "'''\n",
    "question:請問執行後的說明哪一個是對的?(選擇題)\n",
    "a,b,c=\"pcschool\",2016,3.41\n",
    "print(b)\n",
    "\n",
    "(1) 2016\n",
    "(2) 3.41\n",
    "(3) pcschool\n",
    "'''\n",
    "# (1)\n",
    "\n",
    "a,b,c=\"pcschool\",2016,3.41\n",
    "print(b)"
   ]
  },
  {
   "cell_type": "code",
   "execution_count": 183,
   "metadata": {},
   "outputs": [
    {
     "name": "stdout",
     "output_type": "stream",
     "text": [
      "abc!abc!\n"
     ]
    }
   ],
   "source": [
    "'''\n",
    "請問執行後的說明哪一個是對的?(選擇題)\n",
    "test=(\"abc\"+\"!\")*2\n",
    "print(test)\n",
    "\n",
    "(1) abc!2\n",
    "(2) abc! abc! \n",
    "(3) abc+!*2\n",
    "'''\n",
    "\n",
    "# (2)\n",
    "\n",
    "test=(\"abc\"+\"!\")*2\n",
    "print(test)"
   ]
  },
  {
   "cell_type": "code",
   "execution_count": 185,
   "metadata": {},
   "outputs": [
    {
     "name": "stdout",
     "output_type": "stream",
     "text": [
      "13\n"
     ]
    }
   ],
   "source": [
    "'''\n",
    "question: 請問計算後Z的內容哪一個是對的?(選擇題)\n",
    "x=5\n",
    "y=7 \n",
    "z=x+y+1\n",
    "\n",
    "(1) 571\n",
    "(2) 1\n",
    "(3) 13\n",
    "'''\n",
    "# (3)\n",
    "\n",
    "x=5\n",
    "y=7 \n",
    "z=x+y+1\n",
    "print(z)"
   ]
  },
  {
   "cell_type": "code",
   "execution_count": 186,
   "metadata": {},
   "outputs": [
    {
     "name": "stdout",
     "output_type": "stream",
     "text": [
      "8\n",
      "16\n",
      "1\n",
      "8.75\n",
      "2\n",
      "2.0\n"
     ]
    }
   ],
   "source": [
    "a,b,c=4,2,5\n",
    "d,f=3.25,5.5\n",
    "print (a*b)   #8\n",
    "print (a**b)  #16\n",
    "print (a % 3) #1\n",
    "print (d + f) #8.75\n",
    "print (c//b)  #2\n",
    "print (a/b)   #2.0"
   ]
  },
  {
   "cell_type": "code",
   "execution_count": 187,
   "metadata": {},
   "outputs": [
    {
     "name": "stdout",
     "output_type": "stream",
     "text": [
      "3.0\n"
     ]
    }
   ],
   "source": [
    "'''\n",
    "question: 請問執行後的說明哪一個是對的?(選擇題)\n",
    "g,h=9,3\n",
    "print(g/h)#浮點數除法\n",
    "\n",
    "(1) 3 \n",
    "(2) 0 \n",
    "(3) 3.0 \n",
    "'''\n",
    "# (3)\n",
    "\n",
    "g,h=9,3\n",
    "print(g/h)#浮點數除法"
   ]
  },
  {
   "cell_type": "code",
   "execution_count": 191,
   "metadata": {},
   "outputs": [
    {
     "name": "stdout",
     "output_type": "stream",
     "text": [
      "商 3 餘數 1\n"
     ]
    }
   ],
   "source": [
    "'''\n",
    "練習題\n",
    "讓使用者輸入被除數(整數)及除數(整數，不可以是零)\n",
    "程式會顯示兩數相除的商及餘數\n",
    "'''\n",
    "c = int(input(\"請輸入被除數(整數):\"))\n",
    "d = int(input(\"請輸入除數（整數，不可以為0）:\"))\n",
    "divmod(c, d) # 多寫這一行\n",
    "print('商',c, '餘數',d)\n",
    "\n",
    "# 正解\n",
    "n = int(input('請輸入被除數(整數):'))\n",
    "m = int(input('請輸入除數(整數,不可以為0):'))\n",
    "print('商',n//m,'餘數:',n%m)"
   ]
  },
  {
   "cell_type": "code",
   "execution_count": 194,
   "metadata": {},
   "outputs": [
    {
     "name": "stdout",
     "output_type": "stream",
     "text": [
      "兩個數的總和是 3.0\n"
     ]
    }
   ],
   "source": [
    "'''\n",
    "練習題\n",
    "計算使用者輸入的2個任意數，程式會顯示2數相加的總和。\n",
    "'''\n",
    "\n",
    "n1=float(input(\"請輸入數字\"))\n",
    "n2=float(input(\"請輸入數字\"))\n",
    "print('兩個數的總和是', n1+n2)"
   ]
  },
  {
   "cell_type": "code",
   "execution_count": 195,
   "metadata": {},
   "outputs": [
    {
     "name": "stdout",
     "output_type": "stream",
     "text": [
      "剩餘款為:20000\n"
     ]
    }
   ],
   "source": [
    "# 複合指定運算子\n",
    "'''\n",
    "當「=」左右兩邊是相同資料時可以使用精簡方式:\n",
    "省略「=」右邊相同資料。\n",
    "將「=」右邊的計算符號移到「=」左邊。\n",
    "例如以下操作方式可作變更\n",
    "x=x+2，可精簡為 x+=2\n",
    "y=y-3，可精簡為 y-=3\n",
    "'''\n",
    "\n",
    "money = 50000 \n",
    "cell = int(input(\"請輸入手機金額:\"))\n",
    "money -= cell # money=money-cell 更新變數數字\n",
    "print(\"剩餘款為:\" + str(money)) "
   ]
  },
  {
   "cell_type": "code",
   "execution_count": 199,
   "metadata": {},
   "outputs": [
    {
     "name": "stdout",
     "output_type": "stream",
     "text": [
      "平方值 9 立方值 27\n"
     ]
    }
   ],
   "source": [
    "'''\n",
    "練習題：請使用者輸入一個任意數，程式會顯示此數的平方值及立方值\n",
    "'''\n",
    "n=int(input(\"請輸入整數：\"))\n",
    "print('平方值', n**2,'立方值', n**3)\n",
    "\n",
    "# 正解\n",
    "num = float(input('請輸入任意數:'))\n",
    "result = num ** 2 #result是變數\n",
    "print('此數的平方是:',result)\n",
    "result = num ** 3\n",
    "print('此數的立方是:',result)"
   ]
  },
  {
   "cell_type": "code",
   "execution_count": 11,
   "metadata": {},
   "outputs": [
    {
     "name": "stdout",
     "output_type": "stream",
     "text": [
      "三個數的總和為： 5.2\n"
     ]
    }
   ],
   "source": [
    "'''\n",
    "練習題：請以(複合指定運算子)設計程式,讓用者輸入三個任意數，程式會顯示3數相加的總和(float)\n",
    "'''\n",
    "d=0 #務必先設定變數\n",
    "a=float(input('請輸入第一個數:')) #三次運算的變數可以統一為a，持續更新即可\n",
    "d+=a\n",
    "a=float(input('請輸入第二個數：'))\n",
    "d+=a\n",
    "a=float(input('請輸入第三個數：'))\n",
    "d+=a\n",
    "print('三個數的總和為：', d)"
   ]
  },
  {
   "cell_type": "code",
   "execution_count": 206,
   "metadata": {},
   "outputs": [
    {
     "name": "stdout",
     "output_type": "stream",
     "text": [
      "梯形的面積為： 15 平方公分\n"
     ]
    }
   ],
   "source": [
    "'''\n",
    "練習題：讓使用者輸入梯形的上底、下底及高\n",
    "程式會計算梯形的面積(上底加下底乘以高除以2)\n",
    "'''\n",
    "t1=int(input(\"請輸入梯形的上底（公分）：\"))\n",
    "t2=int(input(\"請輸入梯形的下底（公分）：\"))\n",
    "t3=int(input(\"請輸入梯形的高（公分）：\"))\n",
    "area=(t1+t2)*t3//2\n",
    "print('梯形的面積為：', area , '平方公分')"
   ]
  },
  {
   "cell_type": "code",
   "execution_count": 210,
   "metadata": {},
   "outputs": [
    {
     "name": "stdout",
     "output_type": "stream",
     "text": [
      "圓柱體的體積: 1570.795 立方公分\n"
     ]
    }
   ],
   "source": [
    "'''\n",
    "練習題\n",
    "使用者輸入圓柱體的半徑及高，程式會計算圓柱體的體積\n",
    "圓柱體體積的公式為「圓週率乘以半徑平方再乘以高」\n",
    "'''\n",
    "PI = 3.14159\n",
    "radius = float(input('請輸入圓柱體的半徑(公分):'))\n",
    "height = float(input('請輸入圓柱體的高(公分):'))\n",
    "area = radius ** 2 * PI * height\n",
    "print('圓柱體的體積:',area,'立方公分')"
   ]
  },
  {
   "cell_type": "code",
   "execution_count": 2,
   "metadata": {},
   "outputs": [
    {
     "data": {
      "text/plain": [
       "30"
      ]
     },
     "execution_count": 2,
     "metadata": {},
     "output_type": "execute_result"
    }
   ],
   "source": [
    "'''\n",
    "練習題-高中數學\n",
    "讓使用者輸入直角三角形的對邊\n",
    "讓使用者輸入直角三角形的斜邊\n",
    "計算角度\n",
    "公式:\n",
    "sin(x) = 對邊 / 斜邊\n",
    "x是radian(弧度)\n",
    "'''\n",
    "import math\n",
    "n1=float(input('請輸入對邊：'))\n",
    "line=float(input('請輸入斜邊'))\n",
    "round(math.degrees(math.asin(n1/line)))\n",
    "\n",
    "# degrees() 將弧度轉換為角度，用法如下：\n",
    "# import math\n",
    "# math.degrees(x)"
   ]
  },
  {
   "cell_type": "code",
   "execution_count": 14,
   "metadata": {},
   "outputs": [
    {
     "name": "stdout",
     "output_type": "stream",
     "text": [
      "對邊: 2.5 cm 斜邊: 5.0 角度 30.0 度\n",
      "對邊:2.5cm斜邊:5.0cm角度30.0度\n"
     ]
    }
   ],
   "source": [
    "import math\n",
    "n1=float(input(\"請輸入對邊:\"))\n",
    "n2=float(input(\"請輸入斜邊:\"))\n",
    "radian=math.asin(n1/n2) # math.asin #算出弧度\n",
    "degrees=round(radian / math.pi * 180, ndigits=2) #radian / math.pi*180\n",
    "# 弧度/圓周率算出他跟角度之間的比例\n",
    "# 比例*180度 得出角度\n",
    "# math pi= π = 3.141592..圓周率\n",
    "print(\"對邊:\", n1, \"cm\", \"斜邊:\", n2, \"角度\", degrees, \"度\")\n",
    "print(\"對邊:\", n1, \"cm\", \"斜邊:\", n2, \"cm\", \"角度\", degrees, \"度\", sep=\"\")\n"
   ]
  },
  {
   "cell_type": "code",
   "execution_count": 7,
   "metadata": {},
   "outputs": [
    {
     "data": {
      "text/plain": [
       "30.0"
      ]
     },
     "execution_count": 7,
     "metadata": {},
     "output_type": "execute_result"
    }
   ],
   "source": [
    "import math\n",
    "n1=float(input(\"請輸入對邊:\"))\n",
    "n2=float(input(\"請輸入斜邊:\"))\n",
    "# math.degree 將弧度轉換為度數\n",
    "radien=math.asin(n1/n2)        # math.asin算出弧度\n",
    "degrees=round(math.degrees(radien),ndigits=2)   # math.degrees算出角度\n",
    "degrees"
   ]
  },
  {
   "cell_type": "code",
   "execution_count": 19,
   "metadata": {},
   "outputs": [
    {
     "name": "stdout",
     "output_type": "stream",
     "text": [
      "對邊:2.5cm斜邊:5.0cm角度30.0度\n",
      "對邊:2.5cm',斜邊:5.0cm,角度:30.0度\n",
      "對邊:2.500000cm',斜邊:5.000000cm,角度:30.000000度\n"
     ]
    }
   ],
   "source": [
    "# 字串插補：字串跟變數整合傳出一個完整的字串\n",
    "# 用法print（f\"字串{變數}\"）\n",
    "# 如果有特殊要求，{變數:特殊指令} int跟float可以用的特殊指令不一樣\n",
    "# 改寫\n",
    "print(\"對邊:\", n1, \"cm\", \"斜邊:\", n2, \"cm\", \"角度\", degrees, \"度\", sep=\"\")\n",
    "print(f\"對邊:{n1}cm',斜邊:{n2}cm,角度:{degrees}度\")\n",
    "print(f\"對邊:{n1:2f}cm',斜邊:{n2:2f}cm,角度:{degrees:2f}度\")"
   ]
  }
 ],
 "metadata": {
  "kernelspec": {
   "display_name": ".venv",
   "language": "python",
   "name": "python3"
  },
  "language_info": {
   "codemirror_mode": {
    "name": "ipython",
    "version": 3
   },
   "file_extension": ".py",
   "mimetype": "text/x-python",
   "name": "python",
   "nbconvert_exporter": "python",
   "pygments_lexer": "ipython3",
   "version": "3.10.8"
  },
  "orig_nbformat": 4
 },
 "nbformat": 4,
 "nbformat_minor": 2
}
