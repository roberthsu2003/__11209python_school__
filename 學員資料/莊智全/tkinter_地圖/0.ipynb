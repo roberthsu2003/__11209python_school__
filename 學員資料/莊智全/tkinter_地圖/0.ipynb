{
 "cells": [
  {
   "cell_type": "code",
   "execution_count": null,
   "metadata": {},
   "outputs": [],
   "source": [
    "import tkinter as tk\n",
    "import tkintermapview as tkmap\n",
    "\n",
    "class Window(tk.Tk):\n",
    "    def __init__(self):\n",
    "        super().__init__()\n",
    "        map_widget=tkmap.TkinterMapView(self, width=800, height=600, corner_radius=0)\n",
    "        map_widget.place(relx=0.5, rely=0.5, anchor=tk.CENTER)\n",
    "        map_widget.set_position(25.057754658977288, 121.54325064288345)  #台北市\n",
    "        map_widget.set_zoom(15)  #設定顯示大小\n",
    "        "
   ]
  },
  {
   "cell_type": "code",
   "execution_count": null,
   "metadata": {},
   "outputs": [],
   "source": [
    "import tkinter as tk\n",
    "import tkintermapview as tkmap\n",
    "\n",
    "class Win(tk.Tk):\n",
    "    def __init__(self):\n",
    "        super().__init__()\n",
    "        win_widget=tkmap.TkinterMapView(self, width=800, height=600, corner_radius=0)\n",
    "        win_widget.place(relx=0.5, rely=0.5, anchor=tk.CENTER)\n",
    "\n",
    "if __name__ == \"__main__\":\n",
    "   window = Win()\n",
    "   window.geometry(\"800x600\")\n",
    "   window.title(\"地圖\")\n",
    "   window.mainloop()"
   ]
  },
  {
   "cell_type": "code",
   "execution_count": null,
   "metadata": {},
   "outputs": [],
   "source": [
    "import tkinter as tk\n",
    "import tkintermapview as tkmap\n",
    "\n",
    "class Window(tk.Tk):\n",
    "    def __init__(self):\n",
    "        super().__init__()\n",
    "        #建立地圖\n",
    "        map_widget = tkmap.TkinterMapView(self,\n",
    "                                          width=800,\n",
    "                                          height=600,\n",
    "                                          corner_radius=0,\n",
    "                                          )\n",
    "        map_widget.place(relx=0.5, rely=0.5, anchor=tk.CENTER)\n",
    "        marker_1 = map_widget.set_position(25.038128318756307, 121.56306490172479,marker=True) #台北市位置\n",
    "        map_widget.set_zoom(15) #設定顯示大小\n",
    "        marker_1.set_text(\"台北市中心\")\n",
    "        # marker_1.set_position(48.860381, 2.338594)  # 改變位置\n",
    "        # marker_1.delete()刪除\n",
    "\n",
    "if __name__ == \"__main__\":\n",
    "    window = Window()\n",
    "    window.geometry(\"800x600\")\n",
    "    window.title(\"地圖\")\n",
    "    window.mainloop()"
   ]
  },
  {
   "cell_type": "code",
   "execution_count": 1,
   "metadata": {},
   "outputs": [
    {
     "name": "stdout",
     "output_type": "stream",
     "text": [
      "click1\n",
      "<class 'tkintermapview.canvas_position_marker.CanvasPositionMarker'>\n",
      "{'a': 15, 'b': '漁人碼頭'}\n",
      "click2\n",
      "<class 'tkintermapview.canvas_position_marker.CanvasPositionMarker'>\n",
      "{'a': 18, 'b': '三芝淺水灣'}\n",
      "click2\n",
      "<class 'tkintermapview.canvas_position_marker.CanvasPositionMarker'>\n",
      "{'a': 20, 'b': '石門港'}\n"
     ]
    }
   ],
   "source": [
    "import tkinter as tk\n",
    "import tkintermapview as tkmap\n",
    "\n",
    "class Window(tk.Tk):\n",
    "    def __init__(self):\n",
    "        super().__init__()\n",
    "        #建立地圖\n",
    "        map_widget = tkmap.TkinterMapView(self,\n",
    "                                          width=800,\n",
    "                                          height=600,\n",
    "                                          corner_radius=0,\n",
    "                                          )\n",
    "        map_widget.place(relx=0.5, rely=0.5, anchor=tk.CENTER)\n",
    "        marker_1 = map_widget.set_position(25.038128318756307, 121.56306490172479,marker=True) #台北市位置\n",
    "        map_widget.set_zoom(13) #設定顯示大小\n",
    "        marker_1.set_text(\"台北市中心\")\n",
    "\n",
    "        marker_2 = map_widget.set_marker(25.18390899975433, 121.41106653181126,text =\"漁人碼頭\",command=self.click1) #漁人碼頭\n",
    "        marker_2.data = {'a':15,'b':'漁人碼頭'}\n",
    "\n",
    "        marker_3 = map_widget.set_marker(25.255887809995677, 121.47436619812673,text =\"三芝淺水灣\",command=self.click2) #三芝淺水灣\n",
    "        marker_3.data = {'a':18,'b':'三芝淺水灣'}\n",
    "\n",
    "        marker_4 = map_widget.set_marker(25.295500500734974, 121.56803096187542,text =\"石門港\",command=self.click3) #石門港\n",
    "        marker_4.data = {'a':20,'b':'石門港'}\n",
    "\n",
    "    def click1(self,marker):\n",
    "        print(\"click1\")\n",
    "        print(marker.__class__)\n",
    "        print(marker.data)\n",
    "\n",
    "    def click2(self,marker):\n",
    "        print(\"click2\")\n",
    "        print(marker.__class__)\n",
    "        print(marker.data)\n",
    "\n",
    "    def click3(self,marker):\n",
    "        print(\"click2\")\n",
    "        print(marker.__class__)\n",
    "        print(marker.data)\n",
    "\n",
    "if __name__ == \"__main__\":\n",
    "    window = Window()\n",
    "    window.geometry(\"800x600\")\n",
    "    window.title(\"地圖\")\n",
    "    window.mainloop()\n"
   ]
  }
 ],
 "metadata": {
  "kernelspec": {
   "display_name": ".venv",
   "language": "python",
   "name": "python3"
  },
  "language_info": {
   "codemirror_mode": {
    "name": "ipython",
    "version": 3
   },
   "file_extension": ".py",
   "mimetype": "text/x-python",
   "name": "python",
   "nbconvert_exporter": "python",
   "pygments_lexer": "ipython3",
   "version": "3.10.8"
  }
 },
 "nbformat": 4,
 "nbformat_minor": 2
}
