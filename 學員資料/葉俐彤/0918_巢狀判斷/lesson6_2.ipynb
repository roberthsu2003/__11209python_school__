{
 "cells": [
  {
   "cell_type": "code",
   "execution_count": null,
   "metadata": {},
   "outputs": [],
   "source": [
    "# 90(含)~100分為「優」\n",
    "# 80(含)~89分為「甲」\n",
    "# 70(含)~79分為「乙」\n",
    "# 60(含)~69分為「丙」\n",
    "# 0(含)~59分為「丁」\n",
    "\n",
    "import pyinputplus as pyip\n",
    "scores=pyip.inputInt(prompt=\"請輸入成績:\",min=0,max=100)\n",
    "print(scores)\n",
    "feedback=(\"\")\n",
    "\n",
    "if scores >= 90:\n",
    "    feedback=(\"優\")\n",
    "else:\n",
    "    if scores >= 80:\n",
    "        feedback=(\"甲\")\n",
    "    else:\n",
    "        if scores >= 70:\n",
    "            feedback=(\"乙\")\n",
    "        else:\n",
    "            if scores >= 60:\n",
    "                feedback=(\"丙\")\n",
    "            else:\n",
    "                feedback=(\"真爛\")\n",
    "print(feedback)  "
   ]
  }
 ],
 "metadata": {
  "language_info": {
   "name": "python"
  },
  "orig_nbformat": 4
 },
 "nbformat": 4,
 "nbformat_minor": 2
}
